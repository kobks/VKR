{
  "nbformat": 4,
  "nbformat_minor": 0,
  "metadata": {
    "colab": {
      "provenance": [],
      "collapsed_sections": [
        "c4JDSra0NHq9"
      ]
    },
    "kernelspec": {
      "name": "python3",
      "display_name": "Python 3"
    },
    "language_info": {
      "name": "python"
    }
  },
  "cells": [
    {
      "cell_type": "markdown",
      "source": [
        "# Code"
      ],
      "metadata": {
        "id": "c4JDSra0NHq9"
      }
    },
    {
      "cell_type": "code",
      "source": [
        "import pandas as pd\n",
        "import numpy as np\n",
        "import math\n",
        "import matplotlib.pyplot as plt\n",
        "\n",
        "import enum\n",
        "\n",
        "from sklearn.tree import DecisionTreeClassifier # Import Decision Tree Classifier\n",
        "from sklearn.model_selection import train_test_split # Import train_test_split function\n",
        "from sklearn import metrics\n",
        "\n",
        "import ast\n",
        "import json\n",
        "import requests\n",
        "from IPython.display import Image\n",
        "\n",
        "import seaborn as sns\n",
        "import tensorflow as tf\n",
        "from tensorflow import keras\n",
        "from tensorflow.keras import layers\n",
        "\n",
        "\n",
        "import difflib as difflib\n",
        "import random\n",
        "import datetime\n"
      ],
      "metadata": {
        "id": "YDmM82QCvcf2"
      },
      "execution_count": 1,
      "outputs": []
    },
    {
      "cell_type": "markdown",
      "source": [
        "## GYM SET"
      ],
      "metadata": {
        "id": "OG-h6_BG5OUX"
      }
    },
    {
      "cell_type": "code",
      "source": [
        "df_gym = pd.read_csv(\"megaGymDataset.csv\")"
      ],
      "metadata": {
        "id": "gU4Ul7-b5QaM"
      },
      "execution_count": 2,
      "outputs": []
    },
    {
      "cell_type": "code",
      "source": [],
      "metadata": {
        "id": "mkaPgaPeHkxD"
      },
      "execution_count": 2,
      "outputs": []
    },
    {
      "cell_type": "code",
      "source": [
        "#split dataset in features and target variable\n",
        "feature_cols = [ \"Title\",\t\"BodyPart\", \"Equipment\", \"Level\",\t\"Rating\",\t\"RatingDesc\" ]\n",
        "X = df_gym[feature_cols] # Features\n",
        "y = df_gym[\"Type\"] # Target variable"
      ],
      "metadata": {
        "id": "MmvipVgZHk3B"
      },
      "execution_count": 3,
      "outputs": []
    },
    {
      "cell_type": "code",
      "source": [
        "\n",
        "X_train, X_test, y_train, y_test = train_test_split(X, y, test_size=0.3, random_state=1)"
      ],
      "metadata": {
        "id": "tuc7Ua15Hk3C"
      },
      "execution_count": 4,
      "outputs": []
    },
    {
      "cell_type": "code",
      "source": [
        "\n",
        "cats = [ \"Type\",  \"Equipment\", \"Level\", \"RatingDesc\" ]\n",
        "\n",
        "df_gym_cat = df_gym\n",
        "\n",
        "for cat in cats:\n",
        "  codes, uniques = pd.factorize( df_gym_cat[cat] )\n",
        "  df_gym_cat[cat] = codes\n",
        "df_gym_cat['Rating'] = df_gym_cat['Rating'].fillna(0)\n",
        "\n",
        "codes, uniques = pd.factorize( df_gym['Type'] )\n"
      ],
      "metadata": {
        "id": "N7jRbEuSHk3D"
      },
      "execution_count": 5,
      "outputs": []
    },
    {
      "cell_type": "code",
      "source": [
        "%%capture\n",
        "feature_cols = [ \"Type\", \"Equipment\", \"Level\",\t\"Rating\",\t\"RatingDesc\" ]\n",
        "\n",
        "parts = df_gym_cat['BodyPart'].unique()\n",
        "\n",
        "models = []\n",
        "partial_dfs = []\n",
        "\n",
        "for part in parts:\n",
        "  temp_df = df_gym_cat[df_gym[\"BodyPart\"] == part]\n",
        "  temp_df.insert(0, 'New_ID', range(1, 1 + len(temp_df)))\n",
        "\n",
        "  codes, uniques = pd.factorize( temp_df['Type'] )\n",
        "  temp_df['Type'] = codes\n",
        "\n",
        "\n",
        "  X = temp_df[feature_cols] # Features\n",
        "  y = temp_df[\"New_ID\"] # Target variable\n",
        "\n",
        "  X_train, X_test, y_train, y_test = train_test_split(X, y, test_size=0.3, random_state=1)\n",
        "\n",
        "    # Create Decision Tree classifer object\n",
        "  clf_gym = DecisionTreeClassifier()\n",
        "\n",
        "  # Train Decision Tree Classifer\n",
        "  clf_gym = clf_gym.fit(X_train,y_train)\n",
        "\n",
        "  #Predict the response for test dataset\n",
        "  y_pred = clf_gym.predict(X_test)\n",
        "\n",
        "  \n",
        "\n",
        "  lst = [[0,\t0,\t0,\t0.0,\t-1]]\n",
        "  df_test = pd.DataFrame(lst, columns = [ \"Type\", \"Equipment\", \"Level\",\t\"Rating\",\t\"RatingDesc\" ])\n",
        "  df_test\n",
        "    \n",
        "  y_sing = clf_gym.predict(df_test)\n",
        "  models.append(clf_gym)\n",
        "  partial_dfs.append(temp_df)"
      ],
      "metadata": {
        "id": "2-_eiR4bDkZO"
      },
      "execution_count": 6,
      "outputs": []
    },
    {
      "cell_type": "markdown",
      "source": [
        "## USER CODE"
      ],
      "metadata": {
        "id": "veywGY3WBqdT"
      }
    },
    {
      "cell_type": "code",
      "source": [
        "\n",
        "calories1 = pd.read_excel(\"cal_table.xlsx\")\n",
        "calories1.drop(\"Наименование\", axis=1)\n",
        "calories3 = pd.read_excel(\"foods.xlsx\")\n"
      ],
      "metadata": {
        "id": "oHEhAIwYaZW6"
      },
      "execution_count": 7,
      "outputs": []
    },
    {
      "cell_type": "code",
      "source": [
        "calories1.rename(columns={'Name': 'food', \n",
        "                          'Protein': 'Protein, g', \n",
        "                          'Fat': 'Fat, g',\n",
        "                          'Carbs': 'Carbs, g', \n",
        "                          'Calories': 'Calories, kcal'}, inplace=True)\n"
      ],
      "metadata": {
        "id": "MnmQG184cSlx"
      },
      "execution_count": 8,
      "outputs": []
    },
    {
      "cell_type": "code",
      "source": [
        "calories = pd.concat([calories1, calories3])\n",
        "calories.drop(\"Наименование\", axis=1)\n",
        "calories.reset_index(drop=True)"
      ],
      "metadata": {
        "colab": {
          "base_uri": "https://localhost:8080/",
          "height": 423
        },
        "id": "UkvGlp3PAwY5",
        "outputId": "f7cd6fb6-5bfb-485b-ffff-01fc2c8172f0"
      },
      "execution_count": 9,
      "outputs": [
        {
          "output_type": "execute_result",
          "data": {
            "text/plain": [
              "     Наименование                 food  Protein, g  Fat, g  Carbs, g  \\\n",
              "0        Абрикосы             apricots         1.0     0.0      10.0   \n",
              "1         Авокадо              Avocado         2.0    19.0       7.0   \n",
              "2          Аджика               Adjika         2.0     3.0       8.0   \n",
              "3            Айва               Quince         1.0     0.0       9.0   \n",
              "4         Айсберг              Iceberg         1.0     0.0       2.0   \n",
              "...           ...                  ...         ...     ...       ...   \n",
              "1387          NaN            Fried egg        18.8     7.6       3.1   \n",
              "1388          NaN           Egg powder        20.9    12.9       0.9   \n",
              "1389          NaN           boiled egg        37.3    46.0       4.5   \n",
              "1390          NaN  Egg with mayonnaise        11.5    12.7       0.7   \n",
              "1391          NaN            whole egg        24.5     4.1       4.7   \n",
              "\n",
              "      Calories, kcal  \n",
              "0                 45  \n",
              "1                197  \n",
              "2                 59  \n",
              "3                 41  \n",
              "4                 17  \n",
              "...              ...  \n",
              "1387             213  \n",
              "1388             243  \n",
              "1389             542  \n",
              "1390             157  \n",
              "1391             256  \n",
              "\n",
              "[1392 rows x 6 columns]"
            ],
            "text/html": [
              "\n",
              "  <div id=\"df-7e5fffa0-d38f-4fa6-b33a-da8fe93a7827\">\n",
              "    <div class=\"colab-df-container\">\n",
              "      <div>\n",
              "<style scoped>\n",
              "    .dataframe tbody tr th:only-of-type {\n",
              "        vertical-align: middle;\n",
              "    }\n",
              "\n",
              "    .dataframe tbody tr th {\n",
              "        vertical-align: top;\n",
              "    }\n",
              "\n",
              "    .dataframe thead th {\n",
              "        text-align: right;\n",
              "    }\n",
              "</style>\n",
              "<table border=\"1\" class=\"dataframe\">\n",
              "  <thead>\n",
              "    <tr style=\"text-align: right;\">\n",
              "      <th></th>\n",
              "      <th>Наименование</th>\n",
              "      <th>food</th>\n",
              "      <th>Protein, g</th>\n",
              "      <th>Fat, g</th>\n",
              "      <th>Carbs, g</th>\n",
              "      <th>Calories, kcal</th>\n",
              "    </tr>\n",
              "  </thead>\n",
              "  <tbody>\n",
              "    <tr>\n",
              "      <th>0</th>\n",
              "      <td>Абрикосы</td>\n",
              "      <td>apricots</td>\n",
              "      <td>1.0</td>\n",
              "      <td>0.0</td>\n",
              "      <td>10.0</td>\n",
              "      <td>45</td>\n",
              "    </tr>\n",
              "    <tr>\n",
              "      <th>1</th>\n",
              "      <td>Авокадо</td>\n",
              "      <td>Avocado</td>\n",
              "      <td>2.0</td>\n",
              "      <td>19.0</td>\n",
              "      <td>7.0</td>\n",
              "      <td>197</td>\n",
              "    </tr>\n",
              "    <tr>\n",
              "      <th>2</th>\n",
              "      <td>Аджика</td>\n",
              "      <td>Adjika</td>\n",
              "      <td>2.0</td>\n",
              "      <td>3.0</td>\n",
              "      <td>8.0</td>\n",
              "      <td>59</td>\n",
              "    </tr>\n",
              "    <tr>\n",
              "      <th>3</th>\n",
              "      <td>Айва</td>\n",
              "      <td>Quince</td>\n",
              "      <td>1.0</td>\n",
              "      <td>0.0</td>\n",
              "      <td>9.0</td>\n",
              "      <td>41</td>\n",
              "    </tr>\n",
              "    <tr>\n",
              "      <th>4</th>\n",
              "      <td>Айсберг</td>\n",
              "      <td>Iceberg</td>\n",
              "      <td>1.0</td>\n",
              "      <td>0.0</td>\n",
              "      <td>2.0</td>\n",
              "      <td>17</td>\n",
              "    </tr>\n",
              "    <tr>\n",
              "      <th>...</th>\n",
              "      <td>...</td>\n",
              "      <td>...</td>\n",
              "      <td>...</td>\n",
              "      <td>...</td>\n",
              "      <td>...</td>\n",
              "      <td>...</td>\n",
              "    </tr>\n",
              "    <tr>\n",
              "      <th>1387</th>\n",
              "      <td>NaN</td>\n",
              "      <td>Fried egg</td>\n",
              "      <td>18.8</td>\n",
              "      <td>7.6</td>\n",
              "      <td>3.1</td>\n",
              "      <td>213</td>\n",
              "    </tr>\n",
              "    <tr>\n",
              "      <th>1388</th>\n",
              "      <td>NaN</td>\n",
              "      <td>Egg powder</td>\n",
              "      <td>20.9</td>\n",
              "      <td>12.9</td>\n",
              "      <td>0.9</td>\n",
              "      <td>243</td>\n",
              "    </tr>\n",
              "    <tr>\n",
              "      <th>1389</th>\n",
              "      <td>NaN</td>\n",
              "      <td>boiled egg</td>\n",
              "      <td>37.3</td>\n",
              "      <td>46.0</td>\n",
              "      <td>4.5</td>\n",
              "      <td>542</td>\n",
              "    </tr>\n",
              "    <tr>\n",
              "      <th>1390</th>\n",
              "      <td>NaN</td>\n",
              "      <td>Egg with mayonnaise</td>\n",
              "      <td>11.5</td>\n",
              "      <td>12.7</td>\n",
              "      <td>0.7</td>\n",
              "      <td>157</td>\n",
              "    </tr>\n",
              "    <tr>\n",
              "      <th>1391</th>\n",
              "      <td>NaN</td>\n",
              "      <td>whole egg</td>\n",
              "      <td>24.5</td>\n",
              "      <td>4.1</td>\n",
              "      <td>4.7</td>\n",
              "      <td>256</td>\n",
              "    </tr>\n",
              "  </tbody>\n",
              "</table>\n",
              "<p>1392 rows × 6 columns</p>\n",
              "</div>\n",
              "      <button class=\"colab-df-convert\" onclick=\"convertToInteractive('df-7e5fffa0-d38f-4fa6-b33a-da8fe93a7827')\"\n",
              "              title=\"Convert this dataframe to an interactive table.\"\n",
              "              style=\"display:none;\">\n",
              "        \n",
              "  <svg xmlns=\"http://www.w3.org/2000/svg\" height=\"24px\"viewBox=\"0 0 24 24\"\n",
              "       width=\"24px\">\n",
              "    <path d=\"M0 0h24v24H0V0z\" fill=\"none\"/>\n",
              "    <path d=\"M18.56 5.44l.94 2.06.94-2.06 2.06-.94-2.06-.94-.94-2.06-.94 2.06-2.06.94zm-11 1L8.5 8.5l.94-2.06 2.06-.94-2.06-.94L8.5 2.5l-.94 2.06-2.06.94zm10 10l.94 2.06.94-2.06 2.06-.94-2.06-.94-.94-2.06-.94 2.06-2.06.94z\"/><path d=\"M17.41 7.96l-1.37-1.37c-.4-.4-.92-.59-1.43-.59-.52 0-1.04.2-1.43.59L10.3 9.45l-7.72 7.72c-.78.78-.78 2.05 0 2.83L4 21.41c.39.39.9.59 1.41.59.51 0 1.02-.2 1.41-.59l7.78-7.78 2.81-2.81c.8-.78.8-2.07 0-2.86zM5.41 20L4 18.59l7.72-7.72 1.47 1.35L5.41 20z\"/>\n",
              "  </svg>\n",
              "      </button>\n",
              "      \n",
              "  <style>\n",
              "    .colab-df-container {\n",
              "      display:flex;\n",
              "      flex-wrap:wrap;\n",
              "      gap: 12px;\n",
              "    }\n",
              "\n",
              "    .colab-df-convert {\n",
              "      background-color: #E8F0FE;\n",
              "      border: none;\n",
              "      border-radius: 50%;\n",
              "      cursor: pointer;\n",
              "      display: none;\n",
              "      fill: #1967D2;\n",
              "      height: 32px;\n",
              "      padding: 0 0 0 0;\n",
              "      width: 32px;\n",
              "    }\n",
              "\n",
              "    .colab-df-convert:hover {\n",
              "      background-color: #E2EBFA;\n",
              "      box-shadow: 0px 1px 2px rgba(60, 64, 67, 0.3), 0px 1px 3px 1px rgba(60, 64, 67, 0.15);\n",
              "      fill: #174EA6;\n",
              "    }\n",
              "\n",
              "    [theme=dark] .colab-df-convert {\n",
              "      background-color: #3B4455;\n",
              "      fill: #D2E3FC;\n",
              "    }\n",
              "\n",
              "    [theme=dark] .colab-df-convert:hover {\n",
              "      background-color: #434B5C;\n",
              "      box-shadow: 0px 1px 3px 1px rgba(0, 0, 0, 0.15);\n",
              "      filter: drop-shadow(0px 1px 2px rgba(0, 0, 0, 0.3));\n",
              "      fill: #FFFFFF;\n",
              "    }\n",
              "  </style>\n",
              "\n",
              "      <script>\n",
              "        const buttonEl =\n",
              "          document.querySelector('#df-7e5fffa0-d38f-4fa6-b33a-da8fe93a7827 button.colab-df-convert');\n",
              "        buttonEl.style.display =\n",
              "          google.colab.kernel.accessAllowed ? 'block' : 'none';\n",
              "\n",
              "        async function convertToInteractive(key) {\n",
              "          const element = document.querySelector('#df-7e5fffa0-d38f-4fa6-b33a-da8fe93a7827');\n",
              "          const dataTable =\n",
              "            await google.colab.kernel.invokeFunction('convertToInteractive',\n",
              "                                                     [key], {});\n",
              "          if (!dataTable) return;\n",
              "\n",
              "          const docLinkHtml = 'Like what you see? Visit the ' +\n",
              "            '<a target=\"_blank\" href=https://colab.research.google.com/notebooks/data_table.ipynb>data table notebook</a>'\n",
              "            + ' to learn more about interactive tables.';\n",
              "          element.innerHTML = '';\n",
              "          dataTable['output_type'] = 'display_data';\n",
              "          await google.colab.output.renderOutput(dataTable, element);\n",
              "          const docLink = document.createElement('div');\n",
              "          docLink.innerHTML = docLinkHtml;\n",
              "          element.appendChild(docLink);\n",
              "        }\n",
              "      </script>\n",
              "    </div>\n",
              "  </div>\n",
              "  "
            ]
          },
          "metadata": {},
          "execution_count": 9
        }
      ]
    },
    {
      "cell_type": "code",
      "source": [
        "gym_activities = pd.read_excel(\"gym_activities.xlsx\") # calories burnt per 30 minutes"
      ],
      "metadata": {
        "id": "mfs7hM9RC1-P"
      },
      "execution_count": 10,
      "outputs": []
    },
    {
      "cell_type": "code",
      "source": [
        "\n",
        "\n",
        "def get_calories(food):\n",
        "  foods = difflib.get_close_matches(food, calories[\"food\"], n=10, cutoff=0.45)\n",
        "  if foods:\n",
        "    food_cal = calories[calories[\"food\"] == foods[0]]\n",
        "    print(food_cal.values.tolist())\n",
        "    return food_cal.values.tolist()[0][-1]\n",
        "  print(f\"Food {food} not found!\")\n",
        "  return None\n",
        "\n",
        "def recommend_exercise(calories_proficit, weight, gym_activities):\n",
        "  # calories are per 30 minutes\n",
        "  print(f\"You are {calories_proficit} kcal overlimit\")\n",
        "  suggestions = gym_activities[gym_activities[\"155-pound person\"] <= calories_proficit]\n",
        "  suggestions = suggestions.sample(len(suggestions) // 3 ).sort_values(by=['155-pound person'], ascending=False)\n",
        "  recommendation = \"The following activites can be suggested:\\n\"\n",
        "  for item in suggestions.iterrows():\n",
        "\n",
        "    cal_coef = item[1][1] + (item[1][2] - item[1][1]) / (155-125) * abs(155 - weight*2.205)\n",
        "\n",
        "    recommendation += f'{item[1][0]} for { int( calories_proficit / ( cal_coef  / 30 ) ) } minutes\\n'\n",
        "  print(recommendation)\n",
        "\n",
        "\n",
        "def get_exercise(ex, body_part):\n",
        "  exes = difflib.get_close_matches(ex, df_gym_cat[df_gym_cat[\"BodyPart\"] == body_part][\"Title\"], n=10, cutoff=0.3)\n",
        "  if exes:\n",
        "    exercises = [ df_gym_cat[df_gym_cat['Title'] == x] for x in exes ]\n",
        "    return exercises\n",
        "  print(f\"Exercises close to {ex} not found!\")\n",
        "  return None\n",
        "  \n",
        "a = get_exercise(\"Bench\", \"Chest\")"
      ],
      "metadata": {
        "id": "8SXmBAm7_SP6"
      },
      "execution_count": 11,
      "outputs": []
    },
    {
      "cell_type": "code",
      "source": [
        "running_heartrate = pd.read_csv(\"running_summary.csv\")"
      ],
      "metadata": {
        "id": "d-_6NMRvZ91p"
      },
      "execution_count": 12,
      "outputs": []
    },
    {
      "cell_type": "code",
      "source": [
        "running_heartrate = running_heartrate[['heart_rate', 'total_running_time', 'total_calories', 'distance', 'avg_speed']].dropna()\n"
      ],
      "metadata": {
        "id": "q02kgmnUZ91q"
      },
      "execution_count": 13,
      "outputs": []
    },
    {
      "cell_type": "code",
      "source": [
        "running_train_dataset = running_heartrate.sample(frac=0.8, random_state=0)\n",
        "running_test_dataset = running_heartrate.drop(running_train_dataset.index)"
      ],
      "metadata": {
        "id": "AoOVBsCOZ91q"
      },
      "execution_count": 14,
      "outputs": []
    },
    {
      "cell_type": "code",
      "source": [
        "running_train_features = running_train_dataset.copy()\n",
        "running_test_features = running_test_dataset.copy()\n",
        "\n",
        "running_train_labels = running_train_features.pop('heart_rate')\n",
        "running_test_labels = running_test_features.pop('heart_rate')"
      ],
      "metadata": {
        "id": "w-_4R-veZ91r"
      },
      "execution_count": 15,
      "outputs": []
    },
    {
      "cell_type": "code",
      "source": [
        "%%capture\n",
        "running_train_dataset.describe().transpose()\n"
      ],
      "metadata": {
        "id": "fk0eK-hvZ91s"
      },
      "execution_count": 16,
      "outputs": []
    },
    {
      "cell_type": "code",
      "source": [
        "\n",
        "\n",
        "normalizer = tf.keras.layers.Normalization(axis=-1)"
      ],
      "metadata": {
        "id": "jKJJX_dAZ91s"
      },
      "execution_count": 17,
      "outputs": []
    },
    {
      "cell_type": "code",
      "source": [
        "%%capture\n",
        "normalizer.adapt(np.array(running_train_features))\n",
        "\n",
        "first = np.array(running_train_features[:1])"
      ],
      "metadata": {
        "id": "Pfo34Qk_Z91t"
      },
      "execution_count": 18,
      "outputs": []
    },
    {
      "cell_type": "code",
      "source": [
        "def build_and_compile_model(norm):\n",
        "  model = keras.Sequential([\n",
        "      norm,\n",
        "      layers.Dense(64, activation='relu'),\n",
        "      layers.Dense(64, activation='relu'),\n",
        "      layers.Dense(1)\n",
        "  ])\n",
        "\n",
        "  model.compile(loss='mean_absolute_error',\n",
        "                optimizer=tf.keras.optimizers.Adam(0.001))\n",
        "  return model"
      ],
      "metadata": {
        "id": "Hjg09rfbZXjX"
      },
      "execution_count": 19,
      "outputs": []
    },
    {
      "cell_type": "code",
      "source": [
        "dnn_model = build_and_compile_model(normalizer)\n"
      ],
      "metadata": {
        "id": "UR9j4TIEZXjY"
      },
      "execution_count": 20,
      "outputs": []
    },
    {
      "cell_type": "code",
      "source": [
        "%%capture\n",
        "history = dnn_model.fit(\n",
        "    running_train_features,\n",
        "    running_train_labels,\n",
        "    validation_split=0.2,\n",
        "    verbose=0, epochs=100)"
      ],
      "metadata": {
        "id": "UJ3akYsCZXjZ"
      },
      "execution_count": 21,
      "outputs": []
    },
    {
      "cell_type": "code",
      "source": [
        "test_results = {}\n",
        "test_results['dnn_model'] = dnn_model.evaluate(running_test_features, running_test_labels, verbose=0)"
      ],
      "metadata": {
        "id": "5U1Q2FbiZXjZ"
      },
      "execution_count": 22,
      "outputs": []
    },
    {
      "cell_type": "code",
      "source": [
        "\n",
        "\n",
        "class Training_Program():\n",
        "  history = []\n",
        "\n",
        "class Gender(enum.Enum):\n",
        "  male = \"male\"\n",
        "  female = \"female\"\n",
        "\n",
        "class User:\n",
        "  def __init__(self, name, age, height, weight, gender, ex_type=0, equip=0, level=0):\n",
        "    self.name = name\n",
        "    self.age = age\n",
        "    self.height = height\n",
        "    self.weight = weight\n",
        "    self.gender = Gender(gender)\n",
        "    self.BMI = self.calculate_BMI()\n",
        "\n",
        "# add calories depending on age\n",
        "    self.calories_intake = 3000 if self.gender == Gender.male else 2400 \n",
        "    self.calories_today = 0\n",
        "    \n",
        "\n",
        "    self.ex_type = ex_type\n",
        "    self.equip = equip\n",
        "    self.level = level\n",
        "\n",
        "    self.program = None\n",
        "\n",
        "    self.history = None\n",
        "\n",
        "  def __str__ (self):\n",
        "    s = f\"\"\"Name: {self.name},\n",
        "    Age: {self.age},\n",
        "    Height: {self.height},\n",
        "    Weight: {self.weight},\n",
        "    Gender: {self.gender},\n",
        "    Calories daily: {self.calories_intake},\n",
        "    Calories today: {self.calories_today},\n",
        "    BMI: {self.BMI}\\n\"\"\"\n",
        "\n",
        "    if self.program:\n",
        "      s += self.show_program()\n",
        "    \n",
        "    return s\n",
        "\n",
        "\n",
        "\n",
        "# if BMI <= 18.4:\n",
        "#     print(\"You are underweight.\")\n",
        "# elif BMI <= 24.9:\n",
        "#     print(\"You are healthy.\")\n",
        "# elif BMI <= 29.9:\n",
        "#     print(\"You are over weight.\")\n",
        "# elif BMI <= 34.9:\n",
        "#     print(\"You are severely over weight.\")\n",
        "# elif BMI <= 39.9:\n",
        "#     print(\"You are obese.\")\n",
        "# else:\n",
        "#     print(\"You are severely obese.\")\n",
        "\n",
        "  def calculate_BMI(self):\n",
        "    return self.weight / (self.height/100)**2\n",
        "\n",
        "  def generate_program(self):\n",
        "    exercises = {}\n",
        "    for i in range(len(models)):\n",
        "      body_part = parts[i]\n",
        "      model = models[i]\n",
        "      table = partial_dfs[i]\n",
        "\n",
        "      lst = [[self.ex_type,\tself.equip,\tself.level,\t0.0,\t-1]]\n",
        "      df_test = pd.DataFrame(lst, columns = [ \"Type\", \"Equipment\", \"Level\",\t\"Rating\",\t\"RatingDesc\" ])\n",
        "\n",
        "      exercise = model.predict(df_test)\n",
        "      id = table.index[table['New_ID'] == exercise[0]][0]\n",
        "      exercises[body_part] = df_gym.iloc[[id]]\n",
        "\n",
        "    self.program = exercises\n",
        "\n",
        "    columns = []\n",
        "    for x in self.program.values():\n",
        "      y = x['Title'].tolist()[0]\n",
        "      columns.append(f\"{y}, reps\")\n",
        "      columns.append(f\"{y}, weight (kg)\")\n",
        "      columns.append(f\"{y}, rest (s)\")\n",
        "\n",
        "\n",
        "    \n",
        "    self.history = pd.DataFrame(columns=columns)\n",
        "    self.history.insert(0, \"Training_number\", None)\n",
        "    self.history.insert(0, \"Date\", None)\n",
        "\n",
        "  def show_program(self):\n",
        "    s = \"\"\n",
        "    for i in self.program.keys():\n",
        "      s += f\"For bodypart {i}, recommend { self.program.get(i)['Title'].tolist()[0]}\\n\"\n",
        "    return s\n",
        "\n",
        "  def reset_calories_today(self):\n",
        "    self.calories_today = 0\n",
        "\n",
        "  def set_calories_limit(self, limit):\n",
        "    self.calories_intake = limit\n",
        "\n",
        "\n",
        "  def calories_calculation(self, foods):\n",
        "    # cals = 0\n",
        "    for food in foods:\n",
        "      self.calories_today += get_calories(food)\n",
        "\n",
        "    print(f\"Total {self.calories_today} kcal eaten today\")\n",
        "    if self.calories_today > self.calories_intake:\n",
        "      print(f\"You are over limit on daily calories, recommend an exercise\")\n",
        "      recommend_exercise(self.calories_today - self.calories_intake, self.weight, gym_activities)\n",
        "      \n",
        "    elif self.calories_today < self.calories_intake:\n",
        "      print(f\"Some foods you can eat today:\")\n",
        "      food_vars = calories[calories[\"Calories, kcal\"] <= (self.calories_intake - self.calories_today)]\n",
        "      print(type(food_vars))\n",
        "      for index, row in food_vars.iterrows():\n",
        "        print(f\"{row['food']}, kilo calories - {row['Calories, kcal']}\")\n",
        "        if index >= 10:\n",
        "          break\n",
        "\n",
        "  \n",
        "  def get_history(self):\n",
        "    apptoken = \"RQVBQEJyQktGXip6SltGImp2ej48BAAEAAAAAIjiO3VW3QImkgtdJCi7ahfpM592a_DZz09ZaMPA1HhlfA2Hyfgr5qKetRkSKDqF6_2x4abY7bx7wATpFlQdebB0bfCXq9BGQv3JDPVF1TTTSSGxQoEITJgIf6Uxq5wKVWf95EcCrP4oEmUbQkF0aGZPmkC6dC5iHrQGWctKe8004jQjGWA5jmKz8qyMSYSYz\"\n",
        "\n",
        "    r = requests.get('https://api-mifit-de2.huami.com/v1/sport/run/history.json', headers={\n",
        "        'apptoken': apptoken\n",
        "    }, params={\n",
        "        'source': 'run.mifit.huami.com',\n",
        "    })\n",
        "    r.raise_for_status()\n",
        "    return r.json()\n",
        "\n",
        "  def calc_heartrate(self, model):\n",
        "    ex = self.get_history()[\"data\"][\"summary\"][0]\n",
        "    dist = float(ex[\"dis\"]) / 1000\n",
        "    speed = (float(ex[\"dis\"]) / 1000) / (float(ex[\"run_time\"]) / 3600)\n",
        "    calories = float(ex[\"calorie\"])\n",
        "    time = float(ex[\"run_time\"])\n",
        "    heart_rate_real = float(ex[\"avg_heart_rate\"])\n",
        "    print(f\"Dist: {dist}, speed: {speed}, cal: {calories}\")\n",
        "    print(f\"Actual H/R: {heart_rate_real}\")\n",
        "\n",
        "    # total_running_time\ttotal_calories\tdistance\tavg_speed\n",
        "    heart_rate_calculated = model.predict([time, calories, dist, speed])\n",
        "    print(f\"Calculated H/R: {heart_rate_calculated}\")\n",
        "\n",
        "    if heart_rate_calculated - heart_rate_real > 5:\n",
        "      print(\"Your heart rate is low\")\n",
        "    elif heart_rate_real - heart_rate_calculated > 5:\n",
        "      print(\"Your heartrate is high!\")\n",
        "    else:\n",
        "      print(\"Your heartrate is normal\")\n",
        "\n"
      ],
      "metadata": {
        "id": "x0Smih6CBpCl"
      },
      "execution_count": 23,
      "outputs": []
    },
    {
      "cell_type": "code",
      "source": [],
      "metadata": {
        "id": "sirIfrIsp1sd"
      },
      "execution_count": 23,
      "outputs": []
    },
    {
      "cell_type": "code",
      "source": [
        "def add_training_results_dummy(user, exercise, weight, reps, rest, t_num, date=datetime.datetime(2023, 5, 17)):\n",
        "  if not exercise in [x['Title'].tolist()[0] for x in user.program.values()]:\n",
        "    print(\"Wrong exercise!\")\n",
        "    return\n",
        "\n",
        "  ind = len( user.history )\n",
        "  if user.history.index[user.history['Training_number'] == t_num].tolist():\n",
        "    ind = user.history.index[user.history['Training_number'] == t_num].tolist()[0]\n",
        "\n",
        "  user.history.loc[ ind, [\"Date\"] ] = date\n",
        "  user.history.loc[ ind, \"Training_number\" ] = int(t_num)\n",
        "  user.history.loc[ ind, f\"{exercise}, reps\"]  = float(reps)\n",
        "  user.history.loc[ ind, f\"{exercise}, weight (kg)\" ] = weight\n",
        "  user.history.loc[ ind, f\"{exercise}, rest (s)\" ] = rest\n",
        "\n",
        "  if len(user.history) > 10:\n",
        "    pass"
      ],
      "metadata": {
        "id": "7zdWdmlFCWYW"
      },
      "execution_count": 24,
      "outputs": []
    },
    {
      "cell_type": "code",
      "source": [
        "def add_training_results(user, exercise, weight, reps, rest, t_num, date=datetime.datetime(2023, 5, 17)):\n",
        "  if not exercise in [x['Title'].tolist()[0] for x in user.program.values()]:\n",
        "    print(\"Wrong exercise!\")\n",
        "    return\n",
        "\n",
        "  ind = len( user.history )\n",
        "  if user.history.index[user.history['Training_number'] == t_num].tolist():\n",
        "    ind = user.history.index[user.history['Training_number'] == t_num].tolist()[0]\n",
        "  \n",
        "  \n",
        "  user.history.loc[ ind, [\"Date\"] ] = date\n",
        "  user.history.loc[ ind, \"Training_number\" ] = t_num\n",
        "  user.history.loc[ ind, f\"{exercise}, reps\" ] = float(reps)\n",
        "  user.history.loc[ ind, f\"{exercise}, weight (kg)\" ] = weight\n",
        "  user.history.loc[ ind, f\"{exercise}, rest (s)\" ] = rest\n",
        "\n",
        "\n",
        "  if len(user.history) > 10:\n",
        "    w, b = get_recommended_weights(user.history, exercise)\n",
        "    predict = get_predicted_weight(user.history, my_output, w, b, weight, reps)\n",
        "\n"
      ],
      "metadata": {
        "id": "2DtRV4TT40u1"
      },
      "execution_count": 25,
      "outputs": []
    },
    {
      "cell_type": "code",
      "source": [
        "\n",
        "\n",
        "def choose_exercise_num(n):\n",
        "  choice = -1\n",
        "  \n",
        "  while choice < 0 or choice > n:\n",
        "    try:\n",
        "      choice = int(input()) - 1\n",
        "    except:\n",
        "      print(\"Please enter a valid number\")\n",
        "  return choice\n",
        "\n",
        "\n",
        "def change_exercise(user: User, body_part: str, new_exercise: str, gym_set):\n",
        "  \n",
        "  if body_part in list(df_gym_cat[\"BodyPart\"].unique()) :\n",
        "    ex = get_exercise(new_exercise, body_part=body_part)\n",
        "    print(f\"Found following exercises:\")\n",
        "    for i in range(len(ex)):\n",
        "      print(f\"Number {i + 1}) - {list(ex[i]['Title'])[0] }\")\n",
        "    print(\"Enter the number of the exercise to choose:\")\n",
        "\n",
        "    choice = choose_exercise_num(len(ex))\n",
        "\n",
        "    title = list(ex[choice]['Title'])[0]\n",
        "    print(f\"Chose exercise {title}\")\n",
        "    \n",
        "    user.program[body_part] = ex[choice]\n",
        "\n",
        "    user.history[f\"{title}, reps\"] = np.nan\n",
        "    user.history[f\"{title}, weight (kg)\"] = np.nan\n",
        "    user.history[f\"{title}, rest (s)\"] = np.nan\n",
        "  else:\n",
        "    print(f\"Bodypart {body_part} not found\")\n"
      ],
      "metadata": {
        "id": "-sk5Fv7J7ulb"
      },
      "execution_count": 26,
      "outputs": []
    },
    {
      "cell_type": "markdown",
      "source": [
        "## Map Search"
      ],
      "metadata": {
        "id": "NZl809ub-Zb5"
      }
    },
    {
      "cell_type": "code",
      "source": [
        "test_long = 37.44338754155181\n",
        "test_lat = 55.83872304132719"
      ],
      "metadata": {
        "id": "1H4K94axZYC9"
      },
      "execution_count": 27,
      "outputs": []
    },
    {
      "cell_type": "code",
      "source": [
        "%%capture\n",
        "\n",
        "ya_api = \"be69a8a0-9ea0-42cf-ad7a-5b73199a308d\"\n",
        "\n",
        "req_str = f\"https://search-maps.yandex.ru/v1/?\"\\\n",
        "  \"text=Спортивная площадка&\"\\\n",
        "  f\"ll={test_long},{test_lat}&\"\\\n",
        "  \"spn=0.552069,0.550552&\"\\\n",
        "  \"type=biz&\"\\\n",
        "  \"results=5&\"\\\n",
        "  \"lang=ru_RU&\"\\\n",
        "  f\"apikey={ya_api}\"\n",
        "print(req_str)\n",
        "\n",
        "x = requests.get(req_str)\n"
      ],
      "metadata": {
        "id": "gDjae1swOues"
      },
      "execution_count": 28,
      "outputs": []
    },
    {
      "cell_type": "code",
      "source": [
        "\n",
        "\n",
        "def get_all_coordinates(x):\n",
        "  gym_coordinates = []\n",
        "  for item in x.json()[\"features\"]:\n",
        "    gym_coordinates.append(item[\"geometry\"][\"coordinates\"])\n",
        "  return gym_coordinates\n",
        "\n",
        "gym_coordinates = get_all_coordinates(x)"
      ],
      "metadata": {
        "id": "CxWCkaQo-hWI"
      },
      "execution_count": 29,
      "outputs": []
    },
    {
      "cell_type": "markdown",
      "source": [
        "## Getting the map"
      ],
      "metadata": {
        "id": "dOdviOPBV4Sk"
      }
    },
    {
      "cell_type": "code",
      "source": [
        "# 37.620070,55.753630,pmwtm12~37.64,55.76363,pmwtm99\n",
        "\n",
        "def points_create(l):\n",
        "  points = []\n",
        "  \n",
        "  for item in l:\n",
        "    points.append(f\"{item[0]},{item[1]},pm2wtm{l.index(item) + 1}\")\n",
        "  return \"~\".join(points)"
      ],
      "metadata": {
        "id": "DMY2pwiRYKrO"
      },
      "execution_count": 30,
      "outputs": []
    },
    {
      "cell_type": "code",
      "source": [
        "\n",
        "map = requests.get(f\"\"\"https://static-maps.yandex.ru/1.x/?ll={test_long},{test_lat}&size=450,450&z=11&l=map&pt={points_create(gym_coordinates)}\"\"\")\n",
        "# display(Image(map.content))"
      ],
      "metadata": {
        "id": "Of6AbhABWzwC"
      },
      "execution_count": 31,
      "outputs": []
    },
    {
      "cell_type": "markdown",
      "source": [
        "## How to get location (Lat and long)"
      ],
      "metadata": {
        "id": "ywp5tHtNVrAk"
      }
    },
    {
      "cell_type": "code",
      "source": [
        "\n",
        "ip_stack_key = \"e51b2f79be62ac3ac1f0932cefcd4123\"\n",
        "\n",
        "send_url = f\"http://api.ipstack.com/check?access_key={ip_stack_key}\"\n",
        "geo_req = requests.get(send_url)\n",
        "geo_json = json.loads(geo_req.text)\n",
        "latitude = geo_json['latitude']\n",
        "longitude = geo_json['longitude']\n",
        "city = geo_json['city']\n",
        "# geo_json"
      ],
      "metadata": {
        "id": "2DqxXlZDS190"
      },
      "execution_count": 32,
      "outputs": []
    },
    {
      "cell_type": "markdown",
      "source": [
        "Градусы в минуты и секунды"
      ],
      "metadata": {
        "id": "oBgROweOlo6f"
      }
    },
    {
      "cell_type": "code",
      "source": [
        "\n",
        "\n",
        "def get_min_sec(rad):\n",
        "  ans = []\n",
        "  r = math.floor(rad)\n",
        "  # print(r)\n",
        "  ans.append(r)\n",
        "  m = (rad - math.floor(rad)) * 60\n",
        "  print(m)\n",
        "  ans.append(round(m, 4))\n",
        "  s = round((m - math.floor(m)) * 60, 2)\n",
        "  print(s)\n",
        "  ans.append((round(s, 4)))\n",
        "  return ans\n"
      ],
      "metadata": {
        "id": "BXOUM0J7loTj"
      },
      "execution_count": 33,
      "outputs": []
    },
    {
      "cell_type": "code",
      "source": [
        "req_str = f\"https://search-maps.yandex.ru/v1/?\"\\\n",
        "  \"text=Спортивная площадка&\"\\\n",
        "  f\"ll={test_long},{test_lat}&\"\\\n",
        "  \"spn=0.552069,0.550552&\"\\\n",
        "  \"type=biz&\"\\\n",
        "  \"results=70&\"\\\n",
        "  \"lang=ru_RU&\"\\\n",
        "  f\"apikey={ya_api}\"\n",
        "\n",
        "y = requests.get(req_str)\n"
      ],
      "metadata": {
        "id": "uK1ABjMnvt5W"
      },
      "execution_count": 34,
      "outputs": []
    },
    {
      "cell_type": "code",
      "source": [
        "\n",
        "\n",
        "lat_start = random.uniform(-0.09, 0.09)\n",
        "long_start = random.uniform(-0.09, 0.09)\n",
        "lat_end = random.uniform(-0.09, 0.09)\n",
        "long_end = random.uniform(-0.09, 0.09)\n"
      ],
      "metadata": {
        "id": "hvjDQzT8w1l4"
      },
      "execution_count": 35,
      "outputs": []
    },
    {
      "cell_type": "code",
      "source": [
        "\n",
        "\n",
        "points = get_all_coordinates(y)\n",
        "\n",
        "map = requests.get(f\"\"\"https://static-maps.yandex.ru/1.x/?ll={test_long},{test_lat}&size=450,450&z=11&l=map&pt={points_create(points)}\"\"\"\\\n",
        "                   f\"&pl={test_long + long_start},{test_lat + lat_start},{test_long + long_end},{test_lat + lat_end}\")\n"
      ],
      "metadata": {
        "id": "zSGa8kB2vH3v"
      },
      "execution_count": 36,
      "outputs": []
    },
    {
      "cell_type": "code",
      "source": [
        "def coord_distance(x1, y1, x2, y2):\n",
        "  # print(f\"{x1}, {y1}, {x2}, {y2}\")\n",
        "  return math.sqrt( (x2 - x1)**2 + (y2 - y1)**2 )\n",
        "\n",
        "def notification_gym_nearby(point, distance):\n",
        "  print(f\"Notification sent, point {point}. distance {round(distance * 100000, 2)}\")"
      ],
      "metadata": {
        "id": "KWAjN8mezQB8"
      },
      "execution_count": 37,
      "outputs": []
    },
    {
      "cell_type": "code",
      "source": [
        "\n",
        "flag_point = 0\n",
        "\n",
        "def find_closes_gym(long, lat, gyms):\n",
        "  \n",
        "  global flag_point\n",
        "  closest = 0\n",
        "  min_dist = 100\n",
        "  for j in gyms:\n",
        "    d = coord_distance(long, lat, j[0], j[1]) \n",
        "    if d < dist:\n",
        "      if d < min_dist:\n",
        "        min_dist = d\n",
        "        closest = points.index(j) + 1\n",
        "        \n",
        "\n",
        "  if closest:\n",
        "    print(f\"Closest point is {closest}, in {round(min_dist * 100000, 2)} meters!\")\n",
        "    \n",
        "    if closest != flag_point:\n",
        "      notification_gym_nearby(closest, min_dist)\n",
        "      flag_point = closest\n",
        "\n",
        "  else:\n",
        "    print(\"No closest point...\")\n",
        "\n",
        "steps = 100\n",
        "dist = 0.01\n"
      ],
      "metadata": {
        "id": "JfqjRPpmykjH"
      },
      "execution_count": 38,
      "outputs": []
    },
    {
      "cell_type": "markdown",
      "source": [
        "## Smart watches"
      ],
      "metadata": {
        "id": "MNp9J3Hfl-kj"
      }
    },
    {
      "cell_type": "code",
      "source": [
        "def get_detail(track_id, source):\n",
        "    r = requests.get('https://api-mifit-de2.huami.com/v1/sport/run/detail.json', headers={\n",
        "        'apptoken': apptoken\n",
        "    }, params={\n",
        "        'trackid': track_id,\n",
        "        'source': source,\n",
        "    })\n",
        "    r.raise_for_status()\n",
        "\n",
        "    return r.json()\n"
      ],
      "metadata": {
        "id": "rZzWyzq_0-zi"
      },
      "execution_count": 39,
      "outputs": []
    },
    {
      "cell_type": "code",
      "source": [
        "def show_graphs(exercise_history):\n",
        "  for data in [\"dis\", \"total_step\",  \"calorie\", \"run_time\", \"avg_heart_rate\"]:\n",
        "    y = []\n",
        "    for item in exercise_history[\"data\"][\"summary\"]:\n",
        "      \n",
        "      y.append(float(item[data]))\n",
        "    x = [ i for i in range(len(exercise_history[\"data\"][\"summary\"])) ]\n",
        "    \n",
        "    plt.title(f\"Information on: {data}\")\n",
        "    plt.xlabel(f\"Training session number\")\n",
        "    plt.ylabel(f\"{data}\")\n",
        "\n",
        "    plt.plot(x, y)\n",
        "\n",
        "    \n",
        "    plt.xticks(np.arange(min(x), max(x)+1, 1.0)) \n",
        "\n",
        "    plt.grid()\n",
        "\n",
        "    plt.show()\n"
      ],
      "metadata": {
        "id": "n04yxSxno_Ch"
      },
      "execution_count": 40,
      "outputs": []
    },
    {
      "cell_type": "code",
      "source": [
        "running_heartrate = pd.read_csv(\"running_summary.csv\")"
      ],
      "metadata": {
        "id": "w4_jXqsIIVmv"
      },
      "execution_count": 41,
      "outputs": []
    },
    {
      "cell_type": "code",
      "source": [
        "running_heartrate = running_heartrate[['heart_rate', 'total_running_time', 'total_calories', 'distance', 'avg_speed']].dropna()\n"
      ],
      "metadata": {
        "id": "cpzyo7vHSuaN"
      },
      "execution_count": 42,
      "outputs": []
    },
    {
      "cell_type": "code",
      "source": [
        "running_train_dataset = running_heartrate.sample(frac=0.8, random_state=0)\n",
        "running_test_dataset = running_heartrate.drop(running_train_dataset.index)"
      ],
      "metadata": {
        "id": "kGnL1BG9OYzv"
      },
      "execution_count": 43,
      "outputs": []
    },
    {
      "cell_type": "code",
      "source": [
        "running_train_features = running_train_dataset.copy()\n",
        "running_test_features = running_test_dataset.copy()\n",
        "\n",
        "running_train_labels = running_train_features.pop('heart_rate')\n",
        "running_test_labels = running_test_features.pop('heart_rate')"
      ],
      "metadata": {
        "id": "CfzfOApzdsxo"
      },
      "execution_count": 44,
      "outputs": []
    },
    {
      "cell_type": "code",
      "source": [
        "%%capture\n",
        "running_train_dataset.describe().transpose()\n"
      ],
      "metadata": {
        "id": "ssAnrkURjNPE"
      },
      "execution_count": 45,
      "outputs": []
    },
    {
      "cell_type": "code",
      "source": [],
      "metadata": {
        "id": "FW-QUo46jp8t"
      },
      "execution_count": 45,
      "outputs": []
    },
    {
      "cell_type": "code",
      "source": [
        "normalizer = tf.keras.layers.Normalization(axis=-1)"
      ],
      "metadata": {
        "id": "suwBKhSghL8W"
      },
      "execution_count": 46,
      "outputs": []
    },
    {
      "cell_type": "code",
      "source": [
        "\n",
        "normalizer.adapt(np.array(running_train_features))\n",
        "\n",
        "first = np.array(running_train_features[:1])\n",
        "\n"
      ],
      "metadata": {
        "id": "M6bJaBOOhkar"
      },
      "execution_count": 47,
      "outputs": []
    },
    {
      "cell_type": "code",
      "source": [],
      "metadata": {
        "id": "vwBMobqWXDZG"
      },
      "execution_count": 47,
      "outputs": []
    },
    {
      "cell_type": "code",
      "source": [
        "def my_output(X, weights, biases):\n",
        "    return tf.add(tf.multiply(X, weights), biases)\n",
        "\n",
        "def loss_func(y_true, y_pred):\n",
        "    return tf.reduce_mean(tf.square(y_pred - y_true))\n",
        "\n",
        "\n",
        "\n",
        "def get_recommended_weights(tr_history, ex_name):\n",
        "  x_vals =  tr_history[f\"{ex_name}, reps\"].astype(np.float32).to_numpy()\n",
        "  y_vals = tr_history[f\"{ex_name}, weight (kg)\"].astype(np.float32).to_numpy()\n",
        "  norm = np.linalg.norm(x_vals)     # To find the norm of the array\n",
        "  normalized_array = x_vals/norm  # Formula used to perform array normalization\n",
        "\n",
        "\n",
        "  my_opt = tf.optimizers.SGD(learning_rate=0.02)\n",
        "  tf.random.set_seed(1)\n",
        "  np.random.seed(0)\n",
        "  weights = tf.Variable(tf.random.normal(shape=[1])) \n",
        "  biases = tf.Variable(tf.random.normal(shape=[1])) \n",
        "  history = list()\n",
        "\n",
        "  for i in range(len(x_vals)): \n",
        "    rand_index = np.random.choice(len(x_vals))\n",
        "    rand_x = [normalized_array[rand_index]] \n",
        "    rand_y = [y_vals[rand_index]]\n",
        "    with tf.GradientTape() as tape:\n",
        "        predictions = my_output(rand_x, weights, biases)\n",
        "        loss = loss_func(rand_y, predictions)\n",
        "    history.append(loss.numpy())\n",
        "    gradients = tape.gradient(loss, [weights, biases])\n",
        "    my_opt.apply_gradients(zip(gradients, [weights, biases]))\n",
        "  return weights, biases\n"
      ],
      "metadata": {
        "id": "m1ZnVjTaLnPS"
      },
      "execution_count": 48,
      "outputs": []
    },
    {
      "cell_type": "code",
      "source": [
        "\n",
        "\n",
        "def plot_reps(history, exercise):\n",
        "  history = history.astype({\"Training_number\": int, f\"{exercise}, reps\": float, f\"{exercise}, weight (kg)\": float})\n",
        "  \n",
        "  sns.lmplot(x=f\"Training_number\" ,y=f\"{exercise}, reps\" ,data=history, fit_reg=True) \n",
        "  sns.lmplot(x=f\"Training_number\" ,y=f\"{exercise}, weight (kg)\" ,data=history, fit_reg=True) \n",
        "\n",
        "  df_temp = history[[\"Date\", f\"{exercise}, reps\", f\"{exercise}, weight (kg)\"]].copy()\n",
        "  df_temp[\"dates\"] = pd.to_datetime(history['Date']).apply(lambda date: date.toordinal())\n",
        "  ax = sns.regplot(\n",
        "    data=df_temp,\n",
        "    x=\"dates\",\n",
        "    y=f\"{exercise}, reps\",\n",
        "  )\n",
        "  # Tighten up the axes for prettiness\n",
        "  ax.set_xlim(df_temp['dates'].min() - 1, df_temp['dates'].max() + 1)\n",
        "  ax.set_ylim(0, df_temp[f\"{exercise}, reps\"].max() + 1)\n",
        "  # Replace the ordinal X-axis labels with nice, readable dates\n",
        "  ax.set_xlabel('Date')\n",
        "  new_labels = [datetime.date.fromordinal(int(item)) for item in ax.get_xticks()]\n",
        "  ax.set_xticklabels(new_labels)\n",
        "  ax.tick_params(axis='x', rotation=90)\n",
        "\n",
        "\n",
        "def plot_weights(history, exercise):\n",
        "  history = history.astype({\"Training_number\": int, f\"{exercise}, reps\": float, f\"{exercise}, weight (kg)\": float})\n",
        "  \n",
        "  sns.lmplot(x=f\"Training_number\" ,y=f\"{exercise}, weight (kg)\" ,data=history, fit_reg=True) \n",
        "\n",
        "  df_temp = history[[\"Date\", f\"{exercise}, reps\", f\"{exercise}, weight (kg)\"]].copy()\n",
        "  df_temp[\"dates\"] = pd.to_datetime(history['Date']).apply(lambda date: date.toordinal())\n",
        "  ax = sns.regplot(\n",
        "    data=df_temp,\n",
        "    x=\"dates\",\n",
        "    y=f\"{exercise}, reps\",\n",
        "  )\n",
        "  # Tighten up the axes for prettiness\n",
        "  ax.set_xlim(df_temp['dates'].min() - 1, df_temp['dates'].max() + 1)\n",
        "  ax.set_ylim(0, df_temp[f\"{exercise}, weight (kg)\"].max() + 1)\n",
        "  # Replace the ordinal X-axis labels with nice, readable dates\n",
        "  ax.set_xlabel('Date')\n",
        "  new_labels = [datetime.date.fromordinal(int(item)) for item in ax.get_xticks()]\n",
        "  ax.set_xticklabels(new_labels)\n",
        "  ax.tick_params(axis='x', rotation=90)\n",
        "\n"
      ],
      "metadata": {
        "id": "C_dlSR6hKzsA"
      },
      "execution_count": 49,
      "outputs": []
    },
    {
      "cell_type": "code",
      "source": [
        "def get_predicted_weight(history, model, w, b, weights, reps):\n",
        "  pred_w = round(float(model(float(reps), w, b)), 2) / 2\n",
        "  print(f\"Predicted weights: {pred_w}, actual weights: {weights}\")\n",
        "  if pred_w > weights:\n",
        "    print(\"Good weights, recommend increasing reps\")\n",
        "  else:\n",
        "    print(\"Recommend increasing weights\")\n"
      ],
      "metadata": {
        "id": "3nnuAVta1E78"
      },
      "execution_count": 50,
      "outputs": []
    },
    {
      "cell_type": "markdown",
      "source": [
        "# Example"
      ],
      "metadata": {
        "id": "fcfpk-tAlgjE"
      }
    },
    {
      "cell_type": "markdown",
      "source": [
        "### Creating a new user"
      ],
      "metadata": {
        "id": "MzcVnFedl4Pb"
      }
    },
    {
      "cell_type": "code",
      "source": [
        "person = User(\"Ivan\", 25, 180, 90, \"male\", ex_type=1)\n",
        "print(person)"
      ],
      "metadata": {
        "id": "92SxATCBljsx",
        "colab": {
          "base_uri": "https://localhost:8080/"
        },
        "outputId": "72b2cc94-a551-4a07-adad-870f2e61ee2b"
      },
      "execution_count": 51,
      "outputs": [
        {
          "output_type": "stream",
          "name": "stdout",
          "text": [
            "Name: Ivan,\n",
            "    Age: 25,\n",
            "    Height: 180,\n",
            "    Weight: 90,\n",
            "    Gender: Gender.male,\n",
            "    Calories daily: 3000,\n",
            "    Calories today: 0,\n",
            "    BMI: 27.777777777777775\n",
            "\n"
          ]
        }
      ]
    },
    {
      "cell_type": "markdown",
      "source": [
        "### Generate a program for that user"
      ],
      "metadata": {
        "id": "PvyNtTUeq6l0"
      }
    },
    {
      "cell_type": "code",
      "source": [
        "person.generate_program()\n",
        "print(person.show_program())"
      ],
      "metadata": {
        "id": "91KS959Yq5rX",
        "colab": {
          "base_uri": "https://localhost:8080/"
        },
        "outputId": "916049b2-6a17-4286-ffed-3894e041775e"
      },
      "execution_count": 52,
      "outputs": [
        {
          "output_type": "stream",
          "name": "stdout",
          "text": [
            "For bodypart Abdominals, recommend Banded crunch isometric hold\n",
            "For bodypart Adductors, recommend Carioca quick step\n",
            "For bodypart Abductors, recommend Lateral Band Walk\n",
            "For bodypart Biceps, recommend Incline dumbbell biceps curl\n",
            "For bodypart Calves, recommend Smith machine standing calf raise\n",
            "For bodypart Chest, recommend Bench Press With Short Bands\n",
            "For bodypart Forearms, recommend Standing alternating band speed row\n",
            "For bodypart Glutes, recommend Alternating standing glute stretch\n",
            "For bodypart Hamstrings, recommend 30 Legs Sumo Deadlift\n",
            "For bodypart Lats, recommend UN Band Assisted Pull-up Neutral\n",
            "For bodypart Lower Back, recommend Reverse Band Deadlift\n",
            "For bodypart Middle Back, recommend Partner side plank band row\n",
            "For bodypart Traps, recommend Snatch Shrug\n",
            "For bodypart Neck, recommend Side Neck Stretch\n",
            "For bodypart Quadriceps, recommend Speed Box Squat\n",
            "For bodypart Shoulders, recommend HM Lateral Raise\n",
            "For bodypart Triceps, recommend Reverse Band Bench Press\n",
            "\n"
          ]
        }
      ]
    },
    {
      "cell_type": "markdown",
      "source": [
        "### Let us show what happens if food is eaten"
      ],
      "metadata": {
        "id": "d3Wp3VfectfV"
      }
    },
    {
      "cell_type": "code",
      "source": [
        "\n",
        "\n",
        "food_list = [\"Egg\", \"Pie\", \"Chicken\", \"Sandwich, Spaghetti\"]\n",
        "\n",
        "person.calories_calculation(food_list)"
      ],
      "metadata": {
        "id": "V8PkPwTma-PL",
        "colab": {
          "base_uri": "https://localhost:8080/"
        },
        "outputId": "22dc6f09-f43d-4c11-f60f-1c962a0e3b9d"
      },
      "execution_count": 53,
      "outputs": [
        {
          "output_type": "stream",
          "name": "stdout",
          "text": [
            "[['Яйца', 'Eggs', 15.0, 13.0, 1.0, 162]]\n",
            "[['Соленый огурец', 'Pickle', 1.0, 0.0, 3.0, 14]]\n",
            "[['Курица', 'Chicken', 21.0, 11.0, 1.0, 186]]\n",
            "[[nan, 'Steamed beef patties', 11.3, 16.7, 5.9, 193]]\n",
            "Total 555 kcal eaten today\n",
            "Some foods you can eat today:\n",
            "<class 'pandas.core.frame.DataFrame'>\n",
            "apricots, kilo calories - 45\n",
            "Avocado, kilo calories - 197\n",
            "Adjika, kilo calories - 59\n",
            "Quince, kilo calories - 41\n",
            "Iceberg, kilo calories - 17\n",
            "Activia kefir 1%, kilo calories - 39\n",
            "A pineapple, kilo calories - 50\n",
            "Canned pineapple, kilo calories - 65\n",
            "candied pineapple, kilo calories - 78\n",
            "Orange, kilo calories - 43\n",
            "Orange juice, kilo calories - 44\n"
          ]
        }
      ]
    },
    {
      "cell_type": "markdown",
      "source": [
        "### Set a new daily calorie limit, reset daily calories and try other food"
      ],
      "metadata": {
        "id": "wehYDX0DnngM"
      }
    },
    {
      "cell_type": "code",
      "source": [
        "person.reset_calories_today()\n",
        "person.set_calories_limit(400)\n",
        "\n",
        "new_food_list = [\"Cheese\", \"Oatmeal\"]\n",
        "person.calories_calculation(new_food_list)"
      ],
      "metadata": {
        "colab": {
          "base_uri": "https://localhost:8080/"
        },
        "id": "HXY47kyunmxg",
        "outputId": "decf62d9-836e-442f-96b4-fa06009b6018"
      },
      "execution_count": 54,
      "outputs": [
        {
          "output_type": "stream",
          "name": "stdout",
          "text": [
            "[['Сыр 45%', 'Cheese 45%', 26.0, 26.0, 0.0, 336]]\n",
            "[['Овсянка', 'Oatmeal', 9.0, 5.0, 46.0, 271]]\n",
            "Total 607 kcal eaten today\n",
            "You are over limit on daily calories, recommend an exercise\n",
            "You are 207 kcal overlimit\n",
            "The following activites can be suggested:\n",
            "Golf: carrying clubs for 29 minutes\n",
            "Whitewater: rafting, kayaking for 32 minutes\n",
            "Paint, paper, remodel: inside for 32 minutes\n",
            "Gardening: general for 35 minutes\n",
            "Heavy Cleaning: wash car, windows for 35 minutes\n",
            "Stretching, Hatha Yoga for 40 minutes\n",
            "Bowling for 53 minutes\n",
            "Weight Lifting: general for 53 minutes\n",
            "Water Volleyball for 53 minutes\n",
            "Food Shopping: with cart for 53 minutes\n",
            "Reading: sitting for 145 minutes\n",
            "Sleeping for 266 minutes\n",
            "\n"
          ]
        }
      ]
    },
    {
      "cell_type": "markdown",
      "source": [
        "### Add an exercise after training session"
      ],
      "metadata": {
        "id": "7Ub-87Vur1an"
      }
    },
    {
      "cell_type": "code",
      "source": [
        "# So that the example works, as the program is be generated\n",
        "test_exec = [x['Title'].tolist()[0] for x in person.program.values()][0]\n",
        "\n",
        "add_training_results_dummy(person, test_exec, 10, 26, 42, 2, date=datetime.datetime(2020, 5, 18))\n",
        "person.history"
      ],
      "metadata": {
        "colab": {
          "base_uri": "https://localhost:8080/",
          "height": 295
        },
        "id": "cFXQGo_Rr041",
        "outputId": "75de37b8-9a35-4cf6-d6b0-8892fdc04542"
      },
      "execution_count": 55,
      "outputs": [
        {
          "output_type": "execute_result",
          "data": {
            "text/plain": [
              "                  Date Training_number Banded crunch isometric hold, reps  \\\n",
              "0  2020-05-18 00:00:00               2                               26.0   \n",
              "\n",
              "  Banded crunch isometric hold, weight (kg)  \\\n",
              "0                                        10   \n",
              "\n",
              "  Banded crunch isometric hold, rest (s) Carioca quick step, reps  \\\n",
              "0                                     42                      NaN   \n",
              "\n",
              "  Carioca quick step, weight (kg) Carioca quick step, rest (s)  \\\n",
              "0                             NaN                          NaN   \n",
              "\n",
              "  Lateral Band Walk, reps Lateral Band Walk, weight (kg)  ...  \\\n",
              "0                     NaN                            NaN  ...   \n",
              "\n",
              "  Side Neck Stretch, rest (s) Speed Box Squat, reps  \\\n",
              "0                         NaN                   NaN   \n",
              "\n",
              "  Speed Box Squat, weight (kg) Speed Box Squat, rest (s)  \\\n",
              "0                          NaN                       NaN   \n",
              "\n",
              "  HM Lateral Raise, reps HM Lateral Raise, weight (kg)  \\\n",
              "0                    NaN                           NaN   \n",
              "\n",
              "  HM Lateral Raise, rest (s) Reverse Band Bench Press, reps  \\\n",
              "0                        NaN                            NaN   \n",
              "\n",
              "  Reverse Band Bench Press, weight (kg) Reverse Band Bench Press, rest (s)  \n",
              "0                                   NaN                                NaN  \n",
              "\n",
              "[1 rows x 53 columns]"
            ],
            "text/html": [
              "\n",
              "  <div id=\"df-9899a5ff-ddd9-4926-92a4-15e3f38c732e\">\n",
              "    <div class=\"colab-df-container\">\n",
              "      <div>\n",
              "<style scoped>\n",
              "    .dataframe tbody tr th:only-of-type {\n",
              "        vertical-align: middle;\n",
              "    }\n",
              "\n",
              "    .dataframe tbody tr th {\n",
              "        vertical-align: top;\n",
              "    }\n",
              "\n",
              "    .dataframe thead th {\n",
              "        text-align: right;\n",
              "    }\n",
              "</style>\n",
              "<table border=\"1\" class=\"dataframe\">\n",
              "  <thead>\n",
              "    <tr style=\"text-align: right;\">\n",
              "      <th></th>\n",
              "      <th>Date</th>\n",
              "      <th>Training_number</th>\n",
              "      <th>Banded crunch isometric hold, reps</th>\n",
              "      <th>Banded crunch isometric hold, weight (kg)</th>\n",
              "      <th>Banded crunch isometric hold, rest (s)</th>\n",
              "      <th>Carioca quick step, reps</th>\n",
              "      <th>Carioca quick step, weight (kg)</th>\n",
              "      <th>Carioca quick step, rest (s)</th>\n",
              "      <th>Lateral Band Walk, reps</th>\n",
              "      <th>Lateral Band Walk, weight (kg)</th>\n",
              "      <th>...</th>\n",
              "      <th>Side Neck Stretch, rest (s)</th>\n",
              "      <th>Speed Box Squat, reps</th>\n",
              "      <th>Speed Box Squat, weight (kg)</th>\n",
              "      <th>Speed Box Squat, rest (s)</th>\n",
              "      <th>HM Lateral Raise, reps</th>\n",
              "      <th>HM Lateral Raise, weight (kg)</th>\n",
              "      <th>HM Lateral Raise, rest (s)</th>\n",
              "      <th>Reverse Band Bench Press, reps</th>\n",
              "      <th>Reverse Band Bench Press, weight (kg)</th>\n",
              "      <th>Reverse Band Bench Press, rest (s)</th>\n",
              "    </tr>\n",
              "  </thead>\n",
              "  <tbody>\n",
              "    <tr>\n",
              "      <th>0</th>\n",
              "      <td>2020-05-18 00:00:00</td>\n",
              "      <td>2</td>\n",
              "      <td>26.0</td>\n",
              "      <td>10</td>\n",
              "      <td>42</td>\n",
              "      <td>NaN</td>\n",
              "      <td>NaN</td>\n",
              "      <td>NaN</td>\n",
              "      <td>NaN</td>\n",
              "      <td>NaN</td>\n",
              "      <td>...</td>\n",
              "      <td>NaN</td>\n",
              "      <td>NaN</td>\n",
              "      <td>NaN</td>\n",
              "      <td>NaN</td>\n",
              "      <td>NaN</td>\n",
              "      <td>NaN</td>\n",
              "      <td>NaN</td>\n",
              "      <td>NaN</td>\n",
              "      <td>NaN</td>\n",
              "      <td>NaN</td>\n",
              "    </tr>\n",
              "  </tbody>\n",
              "</table>\n",
              "<p>1 rows × 53 columns</p>\n",
              "</div>\n",
              "      <button class=\"colab-df-convert\" onclick=\"convertToInteractive('df-9899a5ff-ddd9-4926-92a4-15e3f38c732e')\"\n",
              "              title=\"Convert this dataframe to an interactive table.\"\n",
              "              style=\"display:none;\">\n",
              "        \n",
              "  <svg xmlns=\"http://www.w3.org/2000/svg\" height=\"24px\"viewBox=\"0 0 24 24\"\n",
              "       width=\"24px\">\n",
              "    <path d=\"M0 0h24v24H0V0z\" fill=\"none\"/>\n",
              "    <path d=\"M18.56 5.44l.94 2.06.94-2.06 2.06-.94-2.06-.94-.94-2.06-.94 2.06-2.06.94zm-11 1L8.5 8.5l.94-2.06 2.06-.94-2.06-.94L8.5 2.5l-.94 2.06-2.06.94zm10 10l.94 2.06.94-2.06 2.06-.94-2.06-.94-.94-2.06-.94 2.06-2.06.94z\"/><path d=\"M17.41 7.96l-1.37-1.37c-.4-.4-.92-.59-1.43-.59-.52 0-1.04.2-1.43.59L10.3 9.45l-7.72 7.72c-.78.78-.78 2.05 0 2.83L4 21.41c.39.39.9.59 1.41.59.51 0 1.02-.2 1.41-.59l7.78-7.78 2.81-2.81c.8-.78.8-2.07 0-2.86zM5.41 20L4 18.59l7.72-7.72 1.47 1.35L5.41 20z\"/>\n",
              "  </svg>\n",
              "      </button>\n",
              "      \n",
              "  <style>\n",
              "    .colab-df-container {\n",
              "      display:flex;\n",
              "      flex-wrap:wrap;\n",
              "      gap: 12px;\n",
              "    }\n",
              "\n",
              "    .colab-df-convert {\n",
              "      background-color: #E8F0FE;\n",
              "      border: none;\n",
              "      border-radius: 50%;\n",
              "      cursor: pointer;\n",
              "      display: none;\n",
              "      fill: #1967D2;\n",
              "      height: 32px;\n",
              "      padding: 0 0 0 0;\n",
              "      width: 32px;\n",
              "    }\n",
              "\n",
              "    .colab-df-convert:hover {\n",
              "      background-color: #E2EBFA;\n",
              "      box-shadow: 0px 1px 2px rgba(60, 64, 67, 0.3), 0px 1px 3px 1px rgba(60, 64, 67, 0.15);\n",
              "      fill: #174EA6;\n",
              "    }\n",
              "\n",
              "    [theme=dark] .colab-df-convert {\n",
              "      background-color: #3B4455;\n",
              "      fill: #D2E3FC;\n",
              "    }\n",
              "\n",
              "    [theme=dark] .colab-df-convert:hover {\n",
              "      background-color: #434B5C;\n",
              "      box-shadow: 0px 1px 3px 1px rgba(0, 0, 0, 0.15);\n",
              "      filter: drop-shadow(0px 1px 2px rgba(0, 0, 0, 0.3));\n",
              "      fill: #FFFFFF;\n",
              "    }\n",
              "  </style>\n",
              "\n",
              "      <script>\n",
              "        const buttonEl =\n",
              "          document.querySelector('#df-9899a5ff-ddd9-4926-92a4-15e3f38c732e button.colab-df-convert');\n",
              "        buttonEl.style.display =\n",
              "          google.colab.kernel.accessAllowed ? 'block' : 'none';\n",
              "\n",
              "        async function convertToInteractive(key) {\n",
              "          const element = document.querySelector('#df-9899a5ff-ddd9-4926-92a4-15e3f38c732e');\n",
              "          const dataTable =\n",
              "            await google.colab.kernel.invokeFunction('convertToInteractive',\n",
              "                                                     [key], {});\n",
              "          if (!dataTable) return;\n",
              "\n",
              "          const docLinkHtml = 'Like what you see? Visit the ' +\n",
              "            '<a target=\"_blank\" href=https://colab.research.google.com/notebooks/data_table.ipynb>data table notebook</a>'\n",
              "            + ' to learn more about interactive tables.';\n",
              "          element.innerHTML = '';\n",
              "          dataTable['output_type'] = 'display_data';\n",
              "          await google.colab.output.renderOutput(dataTable, element);\n",
              "          const docLink = document.createElement('div');\n",
              "          docLink.innerHTML = docLinkHtml;\n",
              "          element.appendChild(docLink);\n",
              "        }\n",
              "      </script>\n",
              "    </div>\n",
              "  </div>\n",
              "  "
            ]
          },
          "metadata": {},
          "execution_count": 55
        }
      ]
    },
    {
      "cell_type": "markdown",
      "source": [
        "### Can change an exercise from the program "
      ],
      "metadata": {
        "id": "lO_yI7sYuEMx"
      }
    },
    {
      "cell_type": "code",
      "source": [
        "print(\"Before:\")\n",
        "print(person)\n",
        "change_exercise(person, \"Abdominals\", \"Chest\", df_gym_cat)\n",
        "print(\"\\n\\nAfter:\")\n",
        "print(person)"
      ],
      "metadata": {
        "colab": {
          "base_uri": "https://localhost:8080/"
        },
        "id": "SuoqXoCqsrLs",
        "outputId": "d65ea8f7-cd58-4168-fa3b-95b4f0e19bfa"
      },
      "execution_count": 56,
      "outputs": [
        {
          "output_type": "stream",
          "name": "stdout",
          "text": [
            "Before:\n",
            "Name: Ivan,\n",
            "    Age: 25,\n",
            "    Height: 180,\n",
            "    Weight: 90,\n",
            "    Gender: Gender.male,\n",
            "    Calories daily: 400,\n",
            "    Calories today: 607,\n",
            "    BMI: 27.777777777777775\n",
            "For bodypart Abdominals, recommend Banded crunch isometric hold\n",
            "For bodypart Adductors, recommend Carioca quick step\n",
            "For bodypart Abductors, recommend Lateral Band Walk\n",
            "For bodypart Biceps, recommend Incline dumbbell biceps curl\n",
            "For bodypart Calves, recommend Smith machine standing calf raise\n",
            "For bodypart Chest, recommend Bench Press With Short Bands\n",
            "For bodypart Forearms, recommend Standing alternating band speed row\n",
            "For bodypart Glutes, recommend Alternating standing glute stretch\n",
            "For bodypart Hamstrings, recommend 30 Legs Sumo Deadlift\n",
            "For bodypart Lats, recommend UN Band Assisted Pull-up Neutral\n",
            "For bodypart Lower Back, recommend Reverse Band Deadlift\n",
            "For bodypart Middle Back, recommend Partner side plank band row\n",
            "For bodypart Traps, recommend Snatch Shrug\n",
            "For bodypart Neck, recommend Side Neck Stretch\n",
            "For bodypart Quadriceps, recommend Speed Box Squat\n",
            "For bodypart Shoulders, recommend HM Lateral Raise\n",
            "For bodypart Triceps, recommend Reverse Band Bench Press\n",
            "\n",
            "Found following exercises:\n",
            "Number 1) - Crunches\n",
            "Number 2) - FYR Knees to Chest\n",
            "Number 3) - Roc Everest\n",
            "Number 4) - Plate Twist\n",
            "Number 5) - Weighted Crunches\n",
            "Number 6) - Crunch\n",
            "Number 7) - Toe Touchers\n",
            "Number 8) - Shoulder tap\n",
            "Number 9) - Cocoons\n",
            "Number 10) - Cat-cow\n",
            "Enter the number of the exercise to choose:\n",
            "5\n",
            "Chose exercise Weighted Crunches\n",
            "\n",
            "\n",
            "After:\n",
            "Name: Ivan,\n",
            "    Age: 25,\n",
            "    Height: 180,\n",
            "    Weight: 90,\n",
            "    Gender: Gender.male,\n",
            "    Calories daily: 400,\n",
            "    Calories today: 607,\n",
            "    BMI: 27.777777777777775\n",
            "For bodypart Abdominals, recommend Weighted Crunches\n",
            "For bodypart Adductors, recommend Carioca quick step\n",
            "For bodypart Abductors, recommend Lateral Band Walk\n",
            "For bodypart Biceps, recommend Incline dumbbell biceps curl\n",
            "For bodypart Calves, recommend Smith machine standing calf raise\n",
            "For bodypart Chest, recommend Bench Press With Short Bands\n",
            "For bodypart Forearms, recommend Standing alternating band speed row\n",
            "For bodypart Glutes, recommend Alternating standing glute stretch\n",
            "For bodypart Hamstrings, recommend 30 Legs Sumo Deadlift\n",
            "For bodypart Lats, recommend UN Band Assisted Pull-up Neutral\n",
            "For bodypart Lower Back, recommend Reverse Band Deadlift\n",
            "For bodypart Middle Back, recommend Partner side plank band row\n",
            "For bodypart Traps, recommend Snatch Shrug\n",
            "For bodypart Neck, recommend Side Neck Stretch\n",
            "For bodypart Quadriceps, recommend Speed Box Squat\n",
            "For bodypart Shoulders, recommend HM Lateral Raise\n",
            "For bodypart Triceps, recommend Reverse Band Bench Press\n",
            "\n"
          ]
        }
      ]
    },
    {
      "cell_type": "code",
      "source": [
        "person.history"
      ],
      "metadata": {
        "id": "EBYy941av9fi",
        "colab": {
          "base_uri": "https://localhost:8080/",
          "height": 295
        },
        "outputId": "673a8d89-1f20-45fa-eb42-bb18dbe9138f"
      },
      "execution_count": 57,
      "outputs": [
        {
          "output_type": "execute_result",
          "data": {
            "text/plain": [
              "                  Date Training_number Banded crunch isometric hold, reps  \\\n",
              "0  2020-05-18 00:00:00               2                               26.0   \n",
              "\n",
              "  Banded crunch isometric hold, weight (kg)  \\\n",
              "0                                        10   \n",
              "\n",
              "  Banded crunch isometric hold, rest (s) Carioca quick step, reps  \\\n",
              "0                                     42                      NaN   \n",
              "\n",
              "  Carioca quick step, weight (kg) Carioca quick step, rest (s)  \\\n",
              "0                             NaN                          NaN   \n",
              "\n",
              "  Lateral Band Walk, reps Lateral Band Walk, weight (kg)  ...  \\\n",
              "0                     NaN                            NaN  ...   \n",
              "\n",
              "  Speed Box Squat, rest (s) HM Lateral Raise, reps  \\\n",
              "0                       NaN                    NaN   \n",
              "\n",
              "  HM Lateral Raise, weight (kg) HM Lateral Raise, rest (s)  \\\n",
              "0                           NaN                        NaN   \n",
              "\n",
              "  Reverse Band Bench Press, reps Reverse Band Bench Press, weight (kg)  \\\n",
              "0                            NaN                                   NaN   \n",
              "\n",
              "  Reverse Band Bench Press, rest (s) Weighted Crunches, reps  \\\n",
              "0                                NaN                     NaN   \n",
              "\n",
              "  Weighted Crunches, weight (kg) Weighted Crunches, rest (s)  \n",
              "0                            NaN                         NaN  \n",
              "\n",
              "[1 rows x 56 columns]"
            ],
            "text/html": [
              "\n",
              "  <div id=\"df-efde6637-c038-4079-b833-9e9882a32e85\">\n",
              "    <div class=\"colab-df-container\">\n",
              "      <div>\n",
              "<style scoped>\n",
              "    .dataframe tbody tr th:only-of-type {\n",
              "        vertical-align: middle;\n",
              "    }\n",
              "\n",
              "    .dataframe tbody tr th {\n",
              "        vertical-align: top;\n",
              "    }\n",
              "\n",
              "    .dataframe thead th {\n",
              "        text-align: right;\n",
              "    }\n",
              "</style>\n",
              "<table border=\"1\" class=\"dataframe\">\n",
              "  <thead>\n",
              "    <tr style=\"text-align: right;\">\n",
              "      <th></th>\n",
              "      <th>Date</th>\n",
              "      <th>Training_number</th>\n",
              "      <th>Banded crunch isometric hold, reps</th>\n",
              "      <th>Banded crunch isometric hold, weight (kg)</th>\n",
              "      <th>Banded crunch isometric hold, rest (s)</th>\n",
              "      <th>Carioca quick step, reps</th>\n",
              "      <th>Carioca quick step, weight (kg)</th>\n",
              "      <th>Carioca quick step, rest (s)</th>\n",
              "      <th>Lateral Band Walk, reps</th>\n",
              "      <th>Lateral Band Walk, weight (kg)</th>\n",
              "      <th>...</th>\n",
              "      <th>Speed Box Squat, rest (s)</th>\n",
              "      <th>HM Lateral Raise, reps</th>\n",
              "      <th>HM Lateral Raise, weight (kg)</th>\n",
              "      <th>HM Lateral Raise, rest (s)</th>\n",
              "      <th>Reverse Band Bench Press, reps</th>\n",
              "      <th>Reverse Band Bench Press, weight (kg)</th>\n",
              "      <th>Reverse Band Bench Press, rest (s)</th>\n",
              "      <th>Weighted Crunches, reps</th>\n",
              "      <th>Weighted Crunches, weight (kg)</th>\n",
              "      <th>Weighted Crunches, rest (s)</th>\n",
              "    </tr>\n",
              "  </thead>\n",
              "  <tbody>\n",
              "    <tr>\n",
              "      <th>0</th>\n",
              "      <td>2020-05-18 00:00:00</td>\n",
              "      <td>2</td>\n",
              "      <td>26.0</td>\n",
              "      <td>10</td>\n",
              "      <td>42</td>\n",
              "      <td>NaN</td>\n",
              "      <td>NaN</td>\n",
              "      <td>NaN</td>\n",
              "      <td>NaN</td>\n",
              "      <td>NaN</td>\n",
              "      <td>...</td>\n",
              "      <td>NaN</td>\n",
              "      <td>NaN</td>\n",
              "      <td>NaN</td>\n",
              "      <td>NaN</td>\n",
              "      <td>NaN</td>\n",
              "      <td>NaN</td>\n",
              "      <td>NaN</td>\n",
              "      <td>NaN</td>\n",
              "      <td>NaN</td>\n",
              "      <td>NaN</td>\n",
              "    </tr>\n",
              "  </tbody>\n",
              "</table>\n",
              "<p>1 rows × 56 columns</p>\n",
              "</div>\n",
              "      <button class=\"colab-df-convert\" onclick=\"convertToInteractive('df-efde6637-c038-4079-b833-9e9882a32e85')\"\n",
              "              title=\"Convert this dataframe to an interactive table.\"\n",
              "              style=\"display:none;\">\n",
              "        \n",
              "  <svg xmlns=\"http://www.w3.org/2000/svg\" height=\"24px\"viewBox=\"0 0 24 24\"\n",
              "       width=\"24px\">\n",
              "    <path d=\"M0 0h24v24H0V0z\" fill=\"none\"/>\n",
              "    <path d=\"M18.56 5.44l.94 2.06.94-2.06 2.06-.94-2.06-.94-.94-2.06-.94 2.06-2.06.94zm-11 1L8.5 8.5l.94-2.06 2.06-.94-2.06-.94L8.5 2.5l-.94 2.06-2.06.94zm10 10l.94 2.06.94-2.06 2.06-.94-2.06-.94-.94-2.06-.94 2.06-2.06.94z\"/><path d=\"M17.41 7.96l-1.37-1.37c-.4-.4-.92-.59-1.43-.59-.52 0-1.04.2-1.43.59L10.3 9.45l-7.72 7.72c-.78.78-.78 2.05 0 2.83L4 21.41c.39.39.9.59 1.41.59.51 0 1.02-.2 1.41-.59l7.78-7.78 2.81-2.81c.8-.78.8-2.07 0-2.86zM5.41 20L4 18.59l7.72-7.72 1.47 1.35L5.41 20z\"/>\n",
              "  </svg>\n",
              "      </button>\n",
              "      \n",
              "  <style>\n",
              "    .colab-df-container {\n",
              "      display:flex;\n",
              "      flex-wrap:wrap;\n",
              "      gap: 12px;\n",
              "    }\n",
              "\n",
              "    .colab-df-convert {\n",
              "      background-color: #E8F0FE;\n",
              "      border: none;\n",
              "      border-radius: 50%;\n",
              "      cursor: pointer;\n",
              "      display: none;\n",
              "      fill: #1967D2;\n",
              "      height: 32px;\n",
              "      padding: 0 0 0 0;\n",
              "      width: 32px;\n",
              "    }\n",
              "\n",
              "    .colab-df-convert:hover {\n",
              "      background-color: #E2EBFA;\n",
              "      box-shadow: 0px 1px 2px rgba(60, 64, 67, 0.3), 0px 1px 3px 1px rgba(60, 64, 67, 0.15);\n",
              "      fill: #174EA6;\n",
              "    }\n",
              "\n",
              "    [theme=dark] .colab-df-convert {\n",
              "      background-color: #3B4455;\n",
              "      fill: #D2E3FC;\n",
              "    }\n",
              "\n",
              "    [theme=dark] .colab-df-convert:hover {\n",
              "      background-color: #434B5C;\n",
              "      box-shadow: 0px 1px 3px 1px rgba(0, 0, 0, 0.15);\n",
              "      filter: drop-shadow(0px 1px 2px rgba(0, 0, 0, 0.3));\n",
              "      fill: #FFFFFF;\n",
              "    }\n",
              "  </style>\n",
              "\n",
              "      <script>\n",
              "        const buttonEl =\n",
              "          document.querySelector('#df-efde6637-c038-4079-b833-9e9882a32e85 button.colab-df-convert');\n",
              "        buttonEl.style.display =\n",
              "          google.colab.kernel.accessAllowed ? 'block' : 'none';\n",
              "\n",
              "        async function convertToInteractive(key) {\n",
              "          const element = document.querySelector('#df-efde6637-c038-4079-b833-9e9882a32e85');\n",
              "          const dataTable =\n",
              "            await google.colab.kernel.invokeFunction('convertToInteractive',\n",
              "                                                     [key], {});\n",
              "          if (!dataTable) return;\n",
              "\n",
              "          const docLinkHtml = 'Like what you see? Visit the ' +\n",
              "            '<a target=\"_blank\" href=https://colab.research.google.com/notebooks/data_table.ipynb>data table notebook</a>'\n",
              "            + ' to learn more about interactive tables.';\n",
              "          element.innerHTML = '';\n",
              "          dataTable['output_type'] = 'display_data';\n",
              "          await google.colab.output.renderOutput(dataTable, element);\n",
              "          const docLink = document.createElement('div');\n",
              "          docLink.innerHTML = docLinkHtml;\n",
              "          element.appendChild(docLink);\n",
              "        }\n",
              "      </script>\n",
              "    </div>\n",
              "  </div>\n",
              "  "
            ]
          },
          "metadata": {},
          "execution_count": 57
        }
      ]
    },
    {
      "cell_type": "markdown",
      "source": [
        "### Can locate nearby sports ground based on location\n",
        "\n",
        "Use Pokrovka HSE Campus as an example of coordinates"
      ],
      "metadata": {
        "id": "rOUgHCqBv-Iu"
      }
    },
    {
      "cell_type": "code",
      "source": [
        "HSE_long = 37.64823890522192\n",
        "HSE_lat = 55.75362365163729"
      ],
      "metadata": {
        "id": "yLwURNzmv-RX"
      },
      "execution_count": 58,
      "outputs": []
    },
    {
      "cell_type": "code",
      "source": [
        "req_str = f\"https://search-maps.yandex.ru/v1/?\"\\\n",
        "  \"text=Спортивная площадка&\"\\\n",
        "  f\"ll={HSE_long},{HSE_lat}&\"\\\n",
        "  \"spn=0.552069,0.550552&\"\\\n",
        "  \"type=biz&\"\\\n",
        "  \"results=15&\"\\\n",
        "  \"lang=ru_RU&\"\\\n",
        "  f\"apikey={ya_api}\"\n",
        "# print(req_str)\n",
        "\n",
        "x = requests.get(req_str)\n",
        "gym_coordinates = get_all_coordinates(x)"
      ],
      "metadata": {
        "id": "gcQzerQ-yaED"
      },
      "execution_count": 59,
      "outputs": []
    },
    {
      "cell_type": "code",
      "source": [
        "HSE_map = requests.get(f\"\"\"https://static-maps.yandex.ru/1.x/?ll={HSE_long},{HSE_lat}&size=450,450&z=13&l=map&pt={points_create(gym_coordinates)}\"\"\")\n",
        "display(Image(HSE_map.content))"
      ],
      "metadata": {
        "colab": {
          "base_uri": "https://localhost:8080/",
          "height": 467
        },
        "id": "kwA1BVSKwtJ8",
        "outputId": "033e8f7a-afa2-44b4-a183-3d1a47da3066"
      },
      "execution_count": 60,
      "outputs": [
        {
          "output_type": "display_data",
          "data": {
            "image/png": "[encoded data removed]",
            "text/plain": [
              "<IPython.core.display.Image object>"
            ]
          },
          "metadata": {}
        }
      ]
    },
    {
      "cell_type": "markdown",
      "source": [
        "### Now suppose we walk along a line near by close-by sport grounds"
      ],
      "metadata": {
        "id": "Sfvos3Fo1z0F"
      }
    },
    {
      "cell_type": "code",
      "source": [
        "\n",
        "long_start = 37.63912337086539\n",
        "lat_start = 55.7531586027803"
      ],
      "metadata": {
        "id": "FxI2SDP80uVy"
      },
      "execution_count": 61,
      "outputs": []
    },
    {
      "cell_type": "code",
      "source": [
        "\n",
        "long_end = 37.63468163273671\n",
        "lat_end = 55.75671621603898"
      ],
      "metadata": {
        "id": "i12SntIm1G1V"
      },
      "execution_count": 62,
      "outputs": []
    },
    {
      "cell_type": "code",
      "source": [
        "\n",
        "points = get_all_coordinates(x)\n",
        "\n",
        "map = requests.get(f\"\"\"https://static-maps.yandex.ru/1.x/?ll={HSE_long},{HSE_lat}&size=450,450&z=14&l=map&pt={points_create(points)}\"\"\"\\\n",
        "                   f\"&pl={long_start},{lat_start},{long_end},{lat_end}\")\n",
        "display(Image(map.content))"
      ],
      "metadata": {
        "colab": {
          "base_uri": "https://localhost:8080/",
          "height": 467
        },
        "id": "2foBXl5z1TC6",
        "outputId": "4ce39ce6-132b-45bb-e404-d72e82a465a3"
      },
      "execution_count": 63,
      "outputs": [
        {
          "output_type": "display_data",
          "data": {
            "image/png": "[encoded data removed]",
            "text/plain": [
              "<IPython.core.display.Image object>"
            ]
          },
          "metadata": {}
        }
      ]
    },
    {
      "cell_type": "markdown",
      "source": [
        "### So here the service shows nearby locations and distance to them\n",
        "\n",
        "the cycle is a rough simulation of walking along the line, on each step find the closest"
      ],
      "metadata": {
        "id": "h8CaQEVa51Ym"
      }
    },
    {
      "cell_type": "code",
      "source": [
        "\n",
        "\n",
        "steps = 100\n",
        "dist = 0.01\n",
        "\n",
        "for i in range(steps):\n",
        "  cur_lat = lat_start + (lat_end - lat_start) * i / steps\n",
        "  cur_long = long_start + (long_end - long_start) * i / steps\n",
        "  find_closes_gym(cur_long, cur_lat, points)"
      ],
      "metadata": {
        "colab": {
          "base_uri": "https://localhost:8080/"
        },
        "id": "PO6R4PhL4I5Z",
        "outputId": "685bfb52-564b-43f3-e645-01bf5479e643"
      },
      "execution_count": 64,
      "outputs": [
        {
          "output_type": "stream",
          "name": "stdout",
          "text": [
            "Closest point is 14, in 195.3 meters!\n",
            "Notification sent, point 14. distance 195.3\n",
            "Closest point is 14, in 192.24 meters!\n",
            "Closest point is 14, in 189.32 meters!\n",
            "Closest point is 14, in 186.52 meters!\n",
            "Closest point is 14, in 183.85 meters!\n",
            "Closest point is 14, in 181.32 meters!\n",
            "Closest point is 14, in 178.94 meters!\n",
            "Closest point is 14, in 176.71 meters!\n",
            "Closest point is 14, in 174.63 meters!\n",
            "Closest point is 14, in 172.72 meters!\n",
            "Closest point is 14, in 170.98 meters!\n",
            "Closest point is 14, in 169.41 meters!\n",
            "Closest point is 14, in 168.02 meters!\n",
            "Closest point is 14, in 166.81 meters!\n",
            "Closest point is 14, in 165.79 meters!\n",
            "Closest point is 14, in 164.95 meters!\n",
            "Closest point is 14, in 164.31 meters!\n",
            "Closest point is 14, in 163.87 meters!\n",
            "Closest point is 14, in 163.62 meters!\n",
            "Closest point is 14, in 163.57 meters!\n",
            "Closest point is 14, in 163.72 meters!\n",
            "Closest point is 14, in 164.07 meters!\n",
            "Closest point is 14, in 164.61 meters!\n",
            "Closest point is 14, in 165.35 meters!\n",
            "Closest point is 14, in 166.27 meters!\n",
            "Closest point is 14, in 167.39 meters!\n",
            "Closest point is 14, in 168.69 meters!\n",
            "Closest point is 14, in 170.17 meters!\n",
            "Closest point is 14, in 171.83 meters!\n",
            "Closest point is 14, in 173.66 meters!\n",
            "Closest point is 14, in 175.65 meters!\n",
            "Closest point is 14, in 177.8 meters!\n",
            "Closest point is 14, in 180.11 meters!\n",
            "Closest point is 14, in 182.57 meters!\n",
            "Closest point is 3, in 181.57 meters!\n",
            "Notification sent, point 3. distance 181.57\n",
            "Closest point is 3, in 175.99 meters!\n",
            "Closest point is 3, in 170.41 meters!\n",
            "Closest point is 3, in 164.84 meters!\n",
            "Closest point is 3, in 159.28 meters!\n",
            "Closest point is 3, in 153.73 meters!\n",
            "Closest point is 3, in 148.19 meters!\n",
            "Closest point is 3, in 142.66 meters!\n",
            "Closest point is 3, in 137.15 meters!\n",
            "Closest point is 3, in 131.65 meters!\n",
            "Closest point is 3, in 126.16 meters!\n",
            "Closest point is 3, in 120.7 meters!\n",
            "Closest point is 3, in 115.26 meters!\n",
            "Closest point is 3, in 109.84 meters!\n",
            "Closest point is 3, in 104.46 meters!\n",
            "Closest point is 3, in 99.1 meters!\n",
            "Closest point is 3, in 93.79 meters!\n",
            "Closest point is 3, in 88.52 meters!\n",
            "Closest point is 3, in 83.31 meters!\n",
            "Closest point is 3, in 78.17 meters!\n",
            "Closest point is 3, in 73.11 meters!\n",
            "Closest point is 3, in 68.15 meters!\n",
            "Closest point is 3, in 63.31 meters!\n",
            "Closest point is 3, in 58.62 meters!\n",
            "Closest point is 3, in 54.12 meters!\n",
            "Closest point is 3, in 49.87 meters!\n",
            "Closest point is 3, in 45.94 meters!\n",
            "Closest point is 3, in 42.4 meters!\n",
            "Closest point is 3, in 39.37 meters!\n",
            "Closest point is 3, in 36.98 meters!\n",
            "Closest point is 3, in 35.35 meters!\n",
            "Closest point is 3, in 34.58 meters!\n",
            "Closest point is 3, in 34.75 meters!\n",
            "Closest point is 3, in 35.83 meters!\n",
            "Closest point is 3, in 37.75 meters!\n",
            "Closest point is 3, in 40.38 meters!\n",
            "Closest point is 3, in 43.6 meters!\n",
            "Closest point is 3, in 47.29 meters!\n",
            "Closest point is 3, in 51.35 meters!\n",
            "Closest point is 3, in 55.69 meters!\n",
            "Closest point is 3, in 60.26 meters!\n",
            "Closest point is 3, in 65.0 meters!\n",
            "Closest point is 3, in 69.89 meters!\n",
            "Closest point is 3, in 74.89 meters!\n",
            "Closest point is 3, in 79.98 meters!\n",
            "Closest point is 3, in 85.15 meters!\n",
            "Closest point is 3, in 90.38 meters!\n",
            "Closest point is 3, in 95.67 meters!\n",
            "Closest point is 3, in 100.99 meters!\n",
            "Closest point is 3, in 106.36 meters!\n",
            "Closest point is 3, in 111.76 meters!\n",
            "Closest point is 3, in 117.18 meters!\n",
            "Closest point is 3, in 122.63 meters!\n",
            "Closest point is 3, in 128.1 meters!\n",
            "Closest point is 3, in 133.59 meters!\n",
            "Closest point is 3, in 139.1 meters!\n",
            "Closest point is 3, in 144.62 meters!\n",
            "Closest point is 3, in 150.15 meters!\n",
            "Closest point is 3, in 155.69 meters!\n",
            "Closest point is 3, in 161.25 meters!\n",
            "Closest point is 3, in 166.81 meters!\n",
            "Closest point is 3, in 172.38 meters!\n",
            "Closest point is 3, in 177.96 meters!\n",
            "Closest point is 3, in 183.55 meters!\n",
            "Closest point is 3, in 189.14 meters!\n",
            "Closest point is 3, in 194.74 meters!\n"
          ]
        }
      ]
    },
    {
      "cell_type": "markdown",
      "source": [
        "### Can show graphical info on progress"
      ],
      "metadata": {
        "id": "tDAk0e1u50gA"
      }
    },
    {
      "cell_type": "code",
      "source": [
        "show_graphs(person.get_history())"
      ],
      "metadata": {
        "colab": {
          "base_uri": "https://localhost:8080/",
          "height": 1000
        },
        "id": "vWWkI5JkIwCu",
        "outputId": "6f0ab80c-ee6e-4465-a740-c628f109eda0"
      },
      "execution_count": 65,
      "outputs": [
        {
          "output_type": "display_data",
          "data": {
            "text/plain": [
              "<Figure size 640x480 with 1 Axes>"
            ],
            "image/png": "[encoded data removed]"
          },
          "metadata": {}
        },
        {
          "output_type": "display_data",
          "data": {
            "text/plain": [
              "<Figure size 640x480 with 1 Axes>"
            ],
            "image/png": "[encoded data removed]"
          },
          "metadata": {}
        },
        {
          "output_type": "display_data",
          "data": {
            "text/plain": [
              "<Figure size 640x480 with 1 Axes>"
            ],
            "image/png": "[encoded data removed]"
          },
          "metadata": {}
        },
        {
          "output_type": "display_data",
          "data": {
            "text/plain": [
              "<Figure size 640x480 with 1 Axes>"
            ],
            "image/png": "[encoded data removed]"
          },
          "metadata": {}
        },
        {
          "output_type": "display_data",
          "data": {
            "text/plain": [
              "<Figure size 640x480 with 1 Axes>"
            ],
            "image/png": "[encoded data removed]"
          },
          "metadata": {}
        }
      ]
    },
    {
      "cell_type": "markdown",
      "source": [
        "Can try to claculate and predict the heartbeat rat, then compare it with the one from user's training"
      ],
      "metadata": {
        "id": "4PuOLpuhnkU_"
      }
    },
    {
      "cell_type": "code",
      "source": [
        "person.calc_heartrate(dnn_model)"
      ],
      "metadata": {
        "colab": {
          "base_uri": "https://localhost:8080/"
        },
        "id": "Aj0xPc3Snra7",
        "outputId": "c269f262-89ca-4537-d2c0-6c167aa8e8b2"
      },
      "execution_count": 66,
      "outputs": [
        {
          "output_type": "stream",
          "name": "stdout",
          "text": [
            "Dist: 1.033, speed: 2.061419068736142, cal: 80.0\n",
            "Actual H/R: 92.0\n",
            "1/1 [==============================] - 0s 135ms/step\n",
            "Calculated H/R: [[208.12857]]\n",
            "Your heart rate is low\n"
          ]
        }
      ]
    },
    {
      "cell_type": "markdown",
      "source": [
        "For some given exercise, can plot user's progress"
      ],
      "metadata": {
        "id": "bKHLb80BthkO"
      }
    },
    {
      "cell_type": "code",
      "source": [
        "# Get the exercise from the program to examie\n",
        "test_ex = list(person.program[\"Abdominals\"][\"Title\"])[0]\n",
        "test_ex"
      ],
      "metadata": {
        "colab": {
          "base_uri": "https://localhost:8080/",
          "height": 36
        },
        "id": "hoeep7J0tzbR",
        "outputId": "5f2b330a-b752-4f98-fca7-351081afb0d4"
      },
      "execution_count": 67,
      "outputs": [
        {
          "output_type": "execute_result",
          "data": {
            "text/plain": [
              "'Weighted Crunches'"
            ],
            "application/vnd.google.colaboratory.intrinsic+json": {
              "type": "string"
            }
          },
          "metadata": {},
          "execution_count": 67
        }
      ]
    },
    {
      "cell_type": "code",
      "source": [
        "\n",
        "add_training_results(person, \"Lateral Band Walk\", 10, 26, 42, 0, date=datetime.datetime(2023, 5, 19))\n",
        "person.history"
      ],
      "metadata": {
        "colab": {
          "base_uri": "https://localhost:8080/",
          "height": 361
        },
        "id": "4polLmVi3E8s",
        "outputId": "91aafcb9-3041-4d9f-fc33-8a269a207093"
      },
      "execution_count": 68,
      "outputs": [
        {
          "output_type": "execute_result",
          "data": {
            "text/plain": [
              "                  Date Training_number Banded crunch isometric hold, reps  \\\n",
              "0  2020-05-18 00:00:00               2                               26.0   \n",
              "1  2023-05-19 00:00:00               0                                NaN   \n",
              "\n",
              "  Banded crunch isometric hold, weight (kg)  \\\n",
              "0                                        10   \n",
              "1                                       NaN   \n",
              "\n",
              "  Banded crunch isometric hold, rest (s) Carioca quick step, reps  \\\n",
              "0                                     42                      NaN   \n",
              "1                                    NaN                      NaN   \n",
              "\n",
              "  Carioca quick step, weight (kg) Carioca quick step, rest (s)  \\\n",
              "0                             NaN                          NaN   \n",
              "1                             NaN                          NaN   \n",
              "\n",
              "  Lateral Band Walk, reps Lateral Band Walk, weight (kg)  ...  \\\n",
              "0                     NaN                            NaN  ...   \n",
              "1                    26.0                             10  ...   \n",
              "\n",
              "  Speed Box Squat, rest (s) HM Lateral Raise, reps  \\\n",
              "0                       NaN                    NaN   \n",
              "1                       NaN                    NaN   \n",
              "\n",
              "  HM Lateral Raise, weight (kg) HM Lateral Raise, rest (s)  \\\n",
              "0                           NaN                        NaN   \n",
              "1                           NaN                        NaN   \n",
              "\n",
              "  Reverse Band Bench Press, reps Reverse Band Bench Press, weight (kg)  \\\n",
              "0                            NaN                                   NaN   \n",
              "1                            NaN                                   NaN   \n",
              "\n",
              "  Reverse Band Bench Press, rest (s) Weighted Crunches, reps  \\\n",
              "0                                NaN                     NaN   \n",
              "1                                NaN                     NaN   \n",
              "\n",
              "  Weighted Crunches, weight (kg) Weighted Crunches, rest (s)  \n",
              "0                            NaN                         NaN  \n",
              "1                            NaN                         NaN  \n",
              "\n",
              "[2 rows x 56 columns]"
            ],
            "text/html": [
              "\n",
              "  <div id=\"df-c790f0fc-3f4b-464e-9cfa-fe239400b56d\">\n",
              "    <div class=\"colab-df-container\">\n",
              "      <div>\n",
              "<style scoped>\n",
              "    .dataframe tbody tr th:only-of-type {\n",
              "        vertical-align: middle;\n",
              "    }\n",
              "\n",
              "    .dataframe tbody tr th {\n",
              "        vertical-align: top;\n",
              "    }\n",
              "\n",
              "    .dataframe thead th {\n",
              "        text-align: right;\n",
              "    }\n",
              "</style>\n",
              "<table border=\"1\" class=\"dataframe\">\n",
              "  <thead>\n",
              "    <tr style=\"text-align: right;\">\n",
              "      <th></th>\n",
              "      <th>Date</th>\n",
              "      <th>Training_number</th>\n",
              "      <th>Banded crunch isometric hold, reps</th>\n",
              "      <th>Banded crunch isometric hold, weight (kg)</th>\n",
              "      <th>Banded crunch isometric hold, rest (s)</th>\n",
              "      <th>Carioca quick step, reps</th>\n",
              "      <th>Carioca quick step, weight (kg)</th>\n",
              "      <th>Carioca quick step, rest (s)</th>\n",
              "      <th>Lateral Band Walk, reps</th>\n",
              "      <th>Lateral Band Walk, weight (kg)</th>\n",
              "      <th>...</th>\n",
              "      <th>Speed Box Squat, rest (s)</th>\n",
              "      <th>HM Lateral Raise, reps</th>\n",
              "      <th>HM Lateral Raise, weight (kg)</th>\n",
              "      <th>HM Lateral Raise, rest (s)</th>\n",
              "      <th>Reverse Band Bench Press, reps</th>\n",
              "      <th>Reverse Band Bench Press, weight (kg)</th>\n",
              "      <th>Reverse Band Bench Press, rest (s)</th>\n",
              "      <th>Weighted Crunches, reps</th>\n",
              "      <th>Weighted Crunches, weight (kg)</th>\n",
              "      <th>Weighted Crunches, rest (s)</th>\n",
              "    </tr>\n",
              "  </thead>\n",
              "  <tbody>\n",
              "    <tr>\n",
              "      <th>0</th>\n",
              "      <td>2020-05-18 00:00:00</td>\n",
              "      <td>2</td>\n",
              "      <td>26.0</td>\n",
              "      <td>10</td>\n",
              "      <td>42</td>\n",
              "      <td>NaN</td>\n",
              "      <td>NaN</td>\n",
              "      <td>NaN</td>\n",
              "      <td>NaN</td>\n",
              "      <td>NaN</td>\n",
              "      <td>...</td>\n",
              "      <td>NaN</td>\n",
              "      <td>NaN</td>\n",
              "      <td>NaN</td>\n",
              "      <td>NaN</td>\n",
              "      <td>NaN</td>\n",
              "      <td>NaN</td>\n",
              "      <td>NaN</td>\n",
              "      <td>NaN</td>\n",
              "      <td>NaN</td>\n",
              "      <td>NaN</td>\n",
              "    </tr>\n",
              "    <tr>\n",
              "      <th>1</th>\n",
              "      <td>2023-05-19 00:00:00</td>\n",
              "      <td>0</td>\n",
              "      <td>NaN</td>\n",
              "      <td>NaN</td>\n",
              "      <td>NaN</td>\n",
              "      <td>NaN</td>\n",
              "      <td>NaN</td>\n",
              "      <td>NaN</td>\n",
              "      <td>26.0</td>\n",
              "      <td>10</td>\n",
              "      <td>...</td>\n",
              "      <td>NaN</td>\n",
              "      <td>NaN</td>\n",
              "      <td>NaN</td>\n",
              "      <td>NaN</td>\n",
              "      <td>NaN</td>\n",
              "      <td>NaN</td>\n",
              "      <td>NaN</td>\n",
              "      <td>NaN</td>\n",
              "      <td>NaN</td>\n",
              "      <td>NaN</td>\n",
              "    </tr>\n",
              "  </tbody>\n",
              "</table>\n",
              "<p>2 rows × 56 columns</p>\n",
              "</div>\n",
              "      <button class=\"colab-df-convert\" onclick=\"convertToInteractive('df-c790f0fc-3f4b-464e-9cfa-fe239400b56d')\"\n",
              "              title=\"Convert this dataframe to an interactive table.\"\n",
              "              style=\"display:none;\">\n",
              "        \n",
              "  <svg xmlns=\"http://www.w3.org/2000/svg\" height=\"24px\"viewBox=\"0 0 24 24\"\n",
              "       width=\"24px\">\n",
              "    <path d=\"M0 0h24v24H0V0z\" fill=\"none\"/>\n",
              "    <path d=\"M18.56 5.44l.94 2.06.94-2.06 2.06-.94-2.06-.94-.94-2.06-.94 2.06-2.06.94zm-11 1L8.5 8.5l.94-2.06 2.06-.94-2.06-.94L8.5 2.5l-.94 2.06-2.06.94zm10 10l.94 2.06.94-2.06 2.06-.94-2.06-.94-.94-2.06-.94 2.06-2.06.94z\"/><path d=\"M17.41 7.96l-1.37-1.37c-.4-.4-.92-.59-1.43-.59-.52 0-1.04.2-1.43.59L10.3 9.45l-7.72 7.72c-.78.78-.78 2.05 0 2.83L4 21.41c.39.39.9.59 1.41.59.51 0 1.02-.2 1.41-.59l7.78-7.78 2.81-2.81c.8-.78.8-2.07 0-2.86zM5.41 20L4 18.59l7.72-7.72 1.47 1.35L5.41 20z\"/>\n",
              "  </svg>\n",
              "      </button>\n",
              "      \n",
              "  <style>\n",
              "    .colab-df-container {\n",
              "      display:flex;\n",
              "      flex-wrap:wrap;\n",
              "      gap: 12px;\n",
              "    }\n",
              "\n",
              "    .colab-df-convert {\n",
              "      background-color: #E8F0FE;\n",
              "      border: none;\n",
              "      border-radius: 50%;\n",
              "      cursor: pointer;\n",
              "      display: none;\n",
              "      fill: #1967D2;\n",
              "      height: 32px;\n",
              "      padding: 0 0 0 0;\n",
              "      width: 32px;\n",
              "    }\n",
              "\n",
              "    .colab-df-convert:hover {\n",
              "      background-color: #E2EBFA;\n",
              "      box-shadow: 0px 1px 2px rgba(60, 64, 67, 0.3), 0px 1px 3px 1px rgba(60, 64, 67, 0.15);\n",
              "      fill: #174EA6;\n",
              "    }\n",
              "\n",
              "    [theme=dark] .colab-df-convert {\n",
              "      background-color: #3B4455;\n",
              "      fill: #D2E3FC;\n",
              "    }\n",
              "\n",
              "    [theme=dark] .colab-df-convert:hover {\n",
              "      background-color: #434B5C;\n",
              "      box-shadow: 0px 1px 3px 1px rgba(0, 0, 0, 0.15);\n",
              "      filter: drop-shadow(0px 1px 2px rgba(0, 0, 0, 0.3));\n",
              "      fill: #FFFFFF;\n",
              "    }\n",
              "  </style>\n",
              "\n",
              "      <script>\n",
              "        const buttonEl =\n",
              "          document.querySelector('#df-c790f0fc-3f4b-464e-9cfa-fe239400b56d button.colab-df-convert');\n",
              "        buttonEl.style.display =\n",
              "          google.colab.kernel.accessAllowed ? 'block' : 'none';\n",
              "\n",
              "        async function convertToInteractive(key) {\n",
              "          const element = document.querySelector('#df-c790f0fc-3f4b-464e-9cfa-fe239400b56d');\n",
              "          const dataTable =\n",
              "            await google.colab.kernel.invokeFunction('convertToInteractive',\n",
              "                                                     [key], {});\n",
              "          if (!dataTable) return;\n",
              "\n",
              "          const docLinkHtml = 'Like what you see? Visit the ' +\n",
              "            '<a target=\"_blank\" href=https://colab.research.google.com/notebooks/data_table.ipynb>data table notebook</a>'\n",
              "            + ' to learn more about interactive tables.';\n",
              "          element.innerHTML = '';\n",
              "          dataTable['output_type'] = 'display_data';\n",
              "          await google.colab.output.renderOutput(dataTable, element);\n",
              "          const docLink = document.createElement('div');\n",
              "          docLink.innerHTML = docLinkHtml;\n",
              "          element.appendChild(docLink);\n",
              "        }\n",
              "      </script>\n",
              "    </div>\n",
              "  </div>\n",
              "  "
            ]
          },
          "metadata": {},
          "execution_count": 68
        }
      ]
    },
    {
      "cell_type": "code",
      "source": [
        "# filling history with dummy data\n",
        "for i in range(100):\n",
        "  a = round(random.uniform(7, 30), 0)\n",
        "  b = round(random.uniform(15, 25), 0)\n",
        "  add_training_results(person, test_ex, \n",
        "                       a + (i // 8), \n",
        "                       b + (i // 8), \n",
        "                       round(random.uniform(30, 45), 0),\n",
        "                       i,\n",
        "                       datetime.datetime(2023, 5, 18) + datetime.timedelta(days= (i // 3) )\n",
        ")\n",
        "  "
      ],
      "metadata": {
        "colab": {
          "base_uri": "https://localhost:8080/"
        },
        "id": "5gABUcLPvETA",
        "outputId": "49f727fd-64e2-47ba-cbe3-35781199f5eb"
      },
      "execution_count": 69,
      "outputs": [
        {
          "output_type": "stream",
          "name": "stdout",
          "text": [
            "Predicted weights: 18.03, actual weights: 11.0\n",
            "Good weights, recommend increasing reps\n",
            "Predicted weights: 14.815, actual weights: 14.0\n",
            "Good weights, recommend increasing reps\n",
            "Predicted weights: 16.02, actual weights: 21.0\n",
            "Recommend increasing weights\n",
            "Predicted weights: 20.02, actual weights: 30.0\n",
            "Recommend increasing weights\n",
            "Predicted weights: 18.23, actual weights: 9.0\n",
            "Good weights, recommend increasing reps\n",
            "Predicted weights: 19.375, actual weights: 9.0\n",
            "Good weights, recommend increasing reps\n",
            "Predicted weights: 17.965, actual weights: 30.0\n",
            "Recommend increasing weights\n",
            "Predicted weights: 22.645, actual weights: 32.0\n",
            "Recommend increasing weights\n",
            "Predicted weights: 26.995, actual weights: 28.0\n",
            "Recommend increasing weights\n",
            "Predicted weights: 26.13, actual weights: 11.0\n",
            "Good weights, recommend increasing reps\n",
            "Predicted weights: 26.61, actual weights: 11.0\n",
            "Good weights, recommend increasing reps\n",
            "Predicted weights: 20.405, actual weights: 16.0\n",
            "Good weights, recommend increasing reps\n",
            "Predicted weights: 21.965, actual weights: 13.0\n",
            "Good weights, recommend increasing reps\n",
            "Predicted weights: 22.275, actual weights: 19.0\n",
            "Good weights, recommend increasing reps\n",
            "Predicted weights: 23.16, actual weights: 31.0\n",
            "Recommend increasing weights\n",
            "Predicted weights: 27.465, actual weights: 29.0\n",
            "Recommend increasing weights\n",
            "Predicted weights: 28.295, actual weights: 21.0\n",
            "Good weights, recommend increasing reps\n",
            "Predicted weights: 28.47, actual weights: 20.0\n",
            "Good weights, recommend increasing reps\n",
            "Predicted weights: 27.1, actual weights: 19.0\n",
            "Good weights, recommend increasing reps\n",
            "Predicted weights: 26.17, actual weights: 10.0\n",
            "Good weights, recommend increasing reps\n",
            "Predicted weights: 27.41, actual weights: 15.0\n",
            "Good weights, recommend increasing reps\n",
            "Predicted weights: 26.24, actual weights: 15.0\n",
            "Good weights, recommend increasing reps\n",
            "Predicted weights: 24.995, actual weights: 31.0\n",
            "Recommend increasing weights\n",
            "Predicted weights: 28.31, actual weights: 30.0\n",
            "Recommend increasing weights\n",
            "Predicted weights: 29.515, actual weights: 31.0\n",
            "Recommend increasing weights\n",
            "Predicted weights: 24.37, actual weights: 22.0\n",
            "Good weights, recommend increasing reps\n",
            "Predicted weights: 30.295, actual weights: 29.0\n",
            "Good weights, recommend increasing reps\n",
            "Predicted weights: 29.71, actual weights: 25.0\n",
            "Good weights, recommend increasing reps\n",
            "Predicted weights: 30.055, actual weights: 27.0\n",
            "Good weights, recommend increasing reps\n",
            "Predicted weights: 28.615, actual weights: 22.0\n",
            "Good weights, recommend increasing reps\n",
            "Predicted weights: 29.485, actual weights: 25.0\n",
            "Good weights, recommend increasing reps\n",
            "Predicted weights: 30.82, actual weights: 17.0\n",
            "Good weights, recommend increasing reps\n",
            "Predicted weights: 26.02, actual weights: 22.0\n",
            "Good weights, recommend increasing reps\n",
            "Predicted weights: 27.135, actual weights: 24.0\n",
            "Good weights, recommend increasing reps\n",
            "Predicted weights: 25.12, actual weights: 27.0\n",
            "Recommend increasing weights\n",
            "Predicted weights: 25.855, actual weights: 29.0\n",
            "Recommend increasing weights\n",
            "Predicted weights: 29.705, actual weights: 28.0\n",
            "Good weights, recommend increasing reps\n",
            "Predicted weights: 25.305, actual weights: 22.0\n",
            "Good weights, recommend increasing reps\n",
            "Predicted weights: 26.02, actual weights: 16.0\n",
            "Good weights, recommend increasing reps\n",
            "Predicted weights: 27.79, actual weights: 30.0\n",
            "Recommend increasing weights\n",
            "Predicted weights: 29.09, actual weights: 17.0\n",
            "Good weights, recommend increasing reps\n",
            "Predicted weights: 33.1, actual weights: 30.0\n",
            "Good weights, recommend increasing reps\n",
            "Predicted weights: 31.485, actual weights: 23.0\n",
            "Good weights, recommend increasing reps\n",
            "Predicted weights: 31.75, actual weights: 27.0\n",
            "Good weights, recommend increasing reps\n",
            "Predicted weights: 31.2, actual weights: 24.0\n",
            "Good weights, recommend increasing reps\n",
            "Predicted weights: 28.83, actual weights: 33.0\n",
            "Recommend increasing weights\n",
            "Predicted weights: 30.85, actual weights: 16.0\n",
            "Good weights, recommend increasing reps\n",
            "Predicted weights: 26.565, actual weights: 23.0\n",
            "Good weights, recommend increasing reps\n",
            "Predicted weights: 31.72, actual weights: 14.0\n",
            "Good weights, recommend increasing reps\n",
            "Predicted weights: 28.44, actual weights: 31.0\n",
            "Recommend increasing weights\n",
            "Predicted weights: 29.135, actual weights: 17.0\n",
            "Good weights, recommend increasing reps\n",
            "Predicted weights: 30.075, actual weights: 31.0\n",
            "Recommend increasing weights\n",
            "Predicted weights: 25.68, actual weights: 31.0\n",
            "Recommend increasing weights\n",
            "Predicted weights: 28.525, actual weights: 26.0\n",
            "Good weights, recommend increasing reps\n",
            "Predicted weights: 28.55, actual weights: 31.0\n",
            "Recommend increasing weights\n",
            "Predicted weights: 26.295, actual weights: 16.0\n",
            "Good weights, recommend increasing reps\n",
            "Predicted weights: 24.55, actual weights: 16.0\n",
            "Good weights, recommend increasing reps\n",
            "Predicted weights: 29.01, actual weights: 20.0\n",
            "Good weights, recommend increasing reps\n",
            "Predicted weights: 28.03, actual weights: 30.0\n",
            "Recommend increasing weights\n",
            "Predicted weights: 31.2, actual weights: 21.0\n",
            "Good weights, recommend increasing reps\n",
            "Predicted weights: 26.67, actual weights: 36.0\n",
            "Recommend increasing weights\n",
            "Predicted weights: 25.94, actual weights: 32.0\n",
            "Recommend increasing weights\n",
            "Predicted weights: 32.39, actual weights: 19.0\n",
            "Good weights, recommend increasing reps\n",
            "Predicted weights: 31.49, actual weights: 21.0\n",
            "Good weights, recommend increasing reps\n",
            "Predicted weights: 30.475, actual weights: 32.0\n",
            "Recommend increasing weights\n",
            "Predicted weights: 31.56, actual weights: 18.0\n",
            "Good weights, recommend increasing reps\n",
            "Predicted weights: 28.31, actual weights: 16.0\n",
            "Good weights, recommend increasing reps\n",
            "Predicted weights: 31.125, actual weights: 35.0\n",
            "Recommend increasing weights\n",
            "Predicted weights: 24.755, actual weights: 21.0\n",
            "Good weights, recommend increasing reps\n",
            "Predicted weights: 30.505, actual weights: 35.0\n",
            "Recommend increasing weights\n",
            "Predicted weights: 26.1, actual weights: 33.0\n",
            "Recommend increasing weights\n",
            "Predicted weights: 26.695, actual weights: 34.0\n",
            "Recommend increasing weights\n",
            "Predicted weights: 30.53, actual weights: 38.0\n",
            "Recommend increasing weights\n",
            "Predicted weights: 33.01, actual weights: 40.0\n",
            "Recommend increasing weights\n",
            "Predicted weights: 30.25, actual weights: 36.0\n",
            "Recommend increasing weights\n",
            "Predicted weights: 31.165, actual weights: 31.0\n",
            "Good weights, recommend increasing reps\n",
            "Predicted weights: 33.695, actual weights: 23.0\n",
            "Good weights, recommend increasing reps\n",
            "Predicted weights: 32.775, actual weights: 32.0\n",
            "Good weights, recommend increasing reps\n",
            "Predicted weights: 31.855, actual weights: 21.0\n",
            "Good weights, recommend increasing reps\n",
            "Predicted weights: 30.05, actual weights: 23.0\n",
            "Good weights, recommend increasing reps\n",
            "Predicted weights: 29.805, actual weights: 32.0\n",
            "Recommend increasing weights\n",
            "Predicted weights: 28.89, actual weights: 21.0\n",
            "Good weights, recommend increasing reps\n",
            "Predicted weights: 30.44, actual weights: 38.0\n",
            "Recommend increasing weights\n",
            "Predicted weights: 33.54, actual weights: 36.0\n",
            "Recommend increasing weights\n",
            "Predicted weights: 33.21, actual weights: 31.0\n",
            "Good weights, recommend increasing reps\n",
            "Predicted weights: 35.12, actual weights: 38.0\n",
            "Recommend increasing weights\n",
            "Predicted weights: 32.92, actual weights: 33.0\n",
            "Recommend increasing weights\n",
            "Predicted weights: 30.665, actual weights: 32.0\n",
            "Recommend increasing weights\n",
            "Predicted weights: 30.98, actual weights: 23.0\n",
            "Good weights, recommend increasing reps\n",
            "Predicted weights: 30.92, actual weights: 39.0\n",
            "Recommend increasing weights\n"
          ]
        }
      ]
    },
    {
      "cell_type": "code",
      "source": [
        "\n",
        "\n",
        "\n",
        "plot_reps(person.history, test_ex)\n",
        "plot_weights(person.history, test_ex)"
      ],
      "metadata": {
        "colab": {
          "base_uri": "https://localhost:8080/",
          "height": 1000
        },
        "id": "cekph_k-thIc",
        "outputId": "2bb11c87-3bbe-47f9-ec96-add49a94e253"
      },
      "execution_count": 70,
      "outputs": [
        {
          "output_type": "stream",
          "name": "stderr",
          "text": [
            "<ipython-input-49-147db82235e0>:20: UserWarning: FixedFormatter should only be used together with FixedLocator\n",
            "  ax.set_xticklabels(new_labels)\n",
            "<ipython-input-49-147db82235e0>:42: UserWarning: FixedFormatter should only be used together with FixedLocator\n",
            "  ax.set_xticklabels(new_labels)\n"
          ]
        },
        {
          "output_type": "display_data",
          "data": {
            "text/plain": [
              "<Figure size 500x500 with 1 Axes>"
            ],
            "image/png": "[encoded data removed]"
          },
          "metadata": {}
        },
        {
          "output_type": "display_data",
          "data": {
            "text/plain": [
              "<Figure size 500x500 with 1 Axes>"
            ],
            "image/png": "[encoded data removed]"
          },
          "metadata": {}
        },
        {
          "output_type": "display_data",
          "data": {
            "text/plain": [
              "<Figure size 500x500 with 1 Axes>"
            ],
            "image/png": "[encoded data removed]"
          },
          "metadata": {}
        }
      ]
    }
  ]
}